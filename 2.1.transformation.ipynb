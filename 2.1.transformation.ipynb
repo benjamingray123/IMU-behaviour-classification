{
 "cells": [
  {
   "cell_type": "code",
   "execution_count": 9,
   "metadata": {},
   "outputs": [],
   "source": [
    "#!pip install tsfel\n",
    "\n",
    "import numpy as np\n",
    "import pandas as pd\n",
    "pd.set_option('display.max_columns', None)\n",
    "import matplotlib.pyplot as plt\n",
    "%matplotlib inline \n",
    "import seaborn as sns \n",
    "import tsfel # time series feature extraction library "
   ]
  },
  {
   "cell_type": "markdown",
   "metadata": {},
   "source": [
    "# dont work hard, work smart!\n",
    "# feature extraction with time series feature extraction library (tsfel)\n",
    "\n",
    "* tsfel creates a rolling window from which summary statistics and features may be derived\n",
    "    * this notebook uses a 2s window (200 observations sampled at 100hz) with a 50% overlap\n",
    "* Kumpulainena et al., (2021) extracted features manually. I'm going to use a ready-made library to do the heavy lifting for me. \n",
    "* features used Kumpulainena et al., (2021) were as follows: \n",
    "    * total activity: sum of SD in all 3 axes\n",
    "    * position offset: euclidean distance from robust mean (standing) - recalculate for each subject dog\n",
    "    * count mean crossings: sum of all 3 axes \n",
    "    * mean value of each axis \n",
    "    * 7 interpolated inverse ecdf values per axis\n",
    "* modifications made to this notebook (2.1.transformation.ipynb) involve extracting all features offered by tsfel. subsequent feature selection algorithms will then identify which have the greatest predictive power over the target variable. "
   ]
  },
  {
   "cell_type": "code",
   "execution_count": 10,
   "metadata": {},
   "outputs": [],
   "source": [
    "df = pd.read_csv('DietDogMoveData.csv') "
   ]
  },
  {
   "cell_type": "markdown",
   "metadata": {},
   "source": [
    "following '1.preprocessing.ipynb', the dataset has been reduced from 10M+ rows to ~6M. initially i passed the entire dataset (6M rows) into the tsfel feature extraction function. this was not practical and either would not process at all or would stall after several hours. to solve this problem, i broke the dataset down into more managable chunks and performed the feature extraction on each section before concatenating them back together. \n",
    "\n",
    "* objectives for this solution are as follows:\n",
    "    * group dataset by dogID\n",
    "    * further divide dog-wise subsection into inertial data (acc, gyro signals) and behavioral (target column and dogID) sections \n",
    "    * parse data (inertial and behavioural) through TSFEL dog-wise. \n",
    "        * custom .json files created to specifiy which features needed to be extracted from each subsection \n",
    "        * all default features (~60) will be extracted from the inertial data\n",
    "        * as before (in 2.transformation.ipynb), only the rolling mean will be calculated for the behavioural data\n",
    "    * merge inertial and behavioural sections horizontally following feature extraction \n",
    "    * concatenate dog-wise dataframes vertically to reconstruct the complete dataset "
   ]
  },
  {
   "cell_type": "code",
   "execution_count": 11,
   "metadata": {},
   "outputs": [],
   "source": [
    "# although a classification model does not reqire numerically encoded target variables, tsfel does \n",
    "# rolling mean of these encoded values will be produced by the feature extraction function\n",
    "df = pd.get_dummies(df, columns=['Behavior'], prefix=['Behavior']) # one-hot encode behavior classes"
   ]
  },
  {
   "cell_type": "code",
   "execution_count": 12,
   "metadata": {},
   "outputs": [],
   "source": [
    "df_grouped = df.groupby('DogID')\n",
    "dog_groups = [df_grouped.get_group(x) for x in df_grouped.groups] # create dog-wise iterable"
   ]
  },
  {
   "cell_type": "code",
   "execution_count": 13,
   "metadata": {},
   "outputs": [
    {
     "name": "stdout",
     "output_type": "stream",
     "text": [
      "[0.    0.125 0.25  0.375 0.5   0.625 0.75  0.875 1.   ]\n"
     ]
    }
   ],
   "source": [
    "# tsfel feature extraction function takes a .json config file which dictates which features are extracted \n",
    "# features used for the inertial data are in DogMoveFeatures.json (ecdf percentiles *7, mean, standard deviation and zero crossing rate (ZCR))\n",
    "# DogBehaviorFeatures.json selects only the rolling mean\n",
    "\n",
    "# generate 7 evenly-spaced percentiles between 0 and 1 to pass to ecdf_percentile feature (per Kumpulainena et al., (2021))\n",
    "# add percentiles to './DogMoveFeatures.json'\n",
    "print(np.linspace(0,1,9)) "
   ]
  },
  {
   "cell_type": "code",
   "execution_count": 14,
   "metadata": {},
   "outputs": [
    {
     "name": "stdout",
     "output_type": "stream",
     "text": [
      "*** Feature extraction started ***\n"
     ]
    },
    {
     "data": {
      "text/html": [
       "\n",
       "              <p>\n",
       "                  Progress: 100% Complete\n",
       "              <p/>            \n",
       "              <progress\n",
       "                  value='2188'\n",
       "                  max='2188',\n",
       "                  style='width: 25%',\n",
       "              >\n",
       "                  2188\n",
       "              </progress>\n",
       "\n",
       "    "
      ],
      "text/plain": [
       "<IPython.core.display.HTML object>"
      ]
     },
     "metadata": {},
     "output_type": "display_data"
    },
    {
     "name": "stdout",
     "output_type": "stream",
     "text": [
      "\n",
      "*** Feature extraction finished ***\n",
      "*** Feature extraction started ***\n"
     ]
    },
    {
     "data": {
      "text/html": [
       "\n",
       "              <p>\n",
       "                  Progress: 100% Complete\n",
       "              <p/>            \n",
       "              <progress\n",
       "                  value='2188'\n",
       "                  max='2188',\n",
       "                  style='width: 25%',\n",
       "              >\n",
       "                  2188\n",
       "              </progress>\n",
       "\n",
       "    "
      ],
      "text/plain": [
       "<IPython.core.display.HTML object>"
      ]
     },
     "metadata": {},
     "output_type": "display_data"
    },
    {
     "name": "stdout",
     "output_type": "stream",
     "text": [
      "\n",
      "*** Feature extraction finished ***\n",
      "(2188, 1415)\n",
      "*** Feature extraction started ***\n"
     ]
    },
    {
     "data": {
      "text/html": [
       "\n",
       "              <p>\n",
       "                  Progress: 100% Complete\n",
       "              <p/>            \n",
       "              <progress\n",
       "                  value='1022'\n",
       "                  max='1022',\n",
       "                  style='width: 25%',\n",
       "              >\n",
       "                  1022\n",
       "              </progress>\n",
       "\n",
       "    "
      ],
      "text/plain": [
       "<IPython.core.display.HTML object>"
      ]
     },
     "metadata": {},
     "output_type": "display_data"
    },
    {
     "name": "stdout",
     "output_type": "stream",
     "text": [
      "\n",
      "*** Feature extraction finished ***\n",
      "*** Feature extraction started ***\n"
     ]
    },
    {
     "data": {
      "text/html": [
       "\n",
       "              <p>\n",
       "                  Progress: 100% Complete\n",
       "              <p/>            \n",
       "              <progress\n",
       "                  value='1022'\n",
       "                  max='1022',\n",
       "                  style='width: 25%',\n",
       "              >\n",
       "                  1022\n",
       "              </progress>\n",
       "\n",
       "    "
      ],
      "text/plain": [
       "<IPython.core.display.HTML object>"
      ]
     },
     "metadata": {},
     "output_type": "display_data"
    },
    {
     "name": "stdout",
     "output_type": "stream",
     "text": [
      "\n",
      "*** Feature extraction finished ***\n",
      "(3210, 1415)\n",
      "*** Feature extraction started ***\n"
     ]
    },
    {
     "data": {
      "text/html": [
       "\n",
       "              <p>\n",
       "                  Progress: 100% Complete\n",
       "              <p/>            \n",
       "              <progress\n",
       "                  value='910'\n",
       "                  max='910',\n",
       "                  style='width: 25%',\n",
       "              >\n",
       "                  910\n",
       "              </progress>\n",
       "\n",
       "    "
      ],
      "text/plain": [
       "<IPython.core.display.HTML object>"
      ]
     },
     "metadata": {},
     "output_type": "display_data"
    },
    {
     "name": "stdout",
     "output_type": "stream",
     "text": [
      "\n",
      "*** Feature extraction finished ***\n",
      "*** Feature extraction started ***\n"
     ]
    },
    {
     "data": {
      "text/html": [
       "\n",
       "              <p>\n",
       "                  Progress: 100% Complete\n",
       "              <p/>            \n",
       "              <progress\n",
       "                  value='910'\n",
       "                  max='910',\n",
       "                  style='width: 25%',\n",
       "              >\n",
       "                  910\n",
       "              </progress>\n",
       "\n",
       "    "
      ],
      "text/plain": [
       "<IPython.core.display.HTML object>"
      ]
     },
     "metadata": {},
     "output_type": "display_data"
    },
    {
     "name": "stdout",
     "output_type": "stream",
     "text": [
      "\n",
      "*** Feature extraction finished ***\n",
      "(4120, 1415)\n",
      "*** Feature extraction started ***\n"
     ]
    },
    {
     "data": {
      "text/html": [
       "\n",
       "              <p>\n",
       "                  Progress: 55% Complete\n",
       "              <p/>            \n",
       "              <progress\n",
       "                  value='571'\n",
       "                  max='1020',\n",
       "                  style='width: 25%',\n",
       "              >\n",
       "                  571\n",
       "              </progress>\n",
       "\n",
       "    "
      ],
      "text/plain": [
       "<IPython.core.display.HTML object>"
      ]
     },
     "metadata": {},
     "output_type": "display_data"
    },
    {
     "name": "stderr",
     "output_type": "stream",
     "text": [
      "Process SpawnPoolWorker-67:\n",
      "Process SpawnPoolWorker-72:\n",
      "Process SpawnPoolWorker-65:\n",
      "Process SpawnPoolWorker-68:\n",
      "Process SpawnPoolWorker-70:\n",
      "Process SpawnPoolWorker-69:\n",
      "Process SpawnPoolWorker-66:\n",
      "Process SpawnPoolWorker-9:\n",
      "Process SpawnPoolWorker-71:\n",
      "Traceback (most recent call last):\n",
      "  File \"/opt/homebrew/Caskroom/miniforge/base/lib/python3.9/multiprocessing/process.py\", line 315, in _bootstrap\n",
      "    self.run()\n",
      "  File \"/opt/homebrew/Caskroom/miniforge/base/lib/python3.9/multiprocessing/process.py\", line 108, in run\n",
      "    self._target(*self._args, **self._kwargs)\n",
      "  File \"/opt/homebrew/Caskroom/miniforge/base/lib/python3.9/multiprocessing/pool.py\", line 125, in worker\n",
      "    result = (True, func(*args, **kwds))\n",
      "  File \"/opt/homebrew/Caskroom/miniforge/base/lib/python3.9/site-packages/tsfel/feature_extraction/calc_features.py\", line 185, in calc_features\n",
      "    feat_val = calc_window_features(dict_features, wind_sig, fs, features_path=features_path, header_names=names)\n",
      "  File \"/opt/homebrew/Caskroom/miniforge/base/lib/python3.9/site-packages/tsfel/feature_extraction/calc_features.py\", line 462, in calc_window_features\n",
      "    eval_result = eval(execf, locals())\n",
      "  File \"<string>\", line 1, in <module>\n",
      "KeyboardInterrupt\n",
      "Traceback (most recent call last):\n",
      "  File \"/opt/homebrew/Caskroom/miniforge/base/lib/python3.9/multiprocessing/process.py\", line 315, in _bootstrap\n",
      "    self.run()\n",
      "  File \"/opt/homebrew/Caskroom/miniforge/base/lib/python3.9/multiprocessing/process.py\", line 108, in run\n",
      "    self._target(*self._args, **self._kwargs)\n",
      "  File \"/opt/homebrew/Caskroom/miniforge/base/lib/python3.9/multiprocessing/pool.py\", line 125, in worker\n",
      "    result = (True, func(*args, **kwds))\n",
      "  File \"/opt/homebrew/Caskroom/miniforge/base/lib/python3.9/site-packages/tsfel/feature_extraction/calc_features.py\", line 185, in calc_features\n",
      "    feat_val = calc_window_features(dict_features, wind_sig, fs, features_path=features_path, header_names=names)\n",
      "  File \"/opt/homebrew/Caskroom/miniforge/base/lib/python3.9/site-packages/tsfel/feature_extraction/calc_features.py\", line 462, in calc_window_features\n",
      "    eval_result = eval(execf, locals())\n",
      "  File \"<string>\", line 1, in <module>\n",
      "KeyboardInterrupt\n",
      "Traceback (most recent call last):\n",
      "  File \"/opt/homebrew/Caskroom/miniforge/base/lib/python3.9/multiprocessing/process.py\", line 315, in _bootstrap\n",
      "    self.run()\n",
      "  File \"/opt/homebrew/Caskroom/miniforge/base/lib/python3.9/multiprocessing/process.py\", line 108, in run\n",
      "    self._target(*self._args, **self._kwargs)\n",
      "  File \"/opt/homebrew/Caskroom/miniforge/base/lib/python3.9/multiprocessing/pool.py\", line 114, in worker\n",
      "    task = get()\n",
      "  File \"/opt/homebrew/Caskroom/miniforge/base/lib/python3.9/multiprocessing/queues.py\", line 365, in get\n",
      "    with self._rlock:\n",
      "  File \"/opt/homebrew/Caskroom/miniforge/base/lib/python3.9/multiprocessing/synchronize.py\", line 95, in __enter__\n",
      "    return self._semlock.__enter__()\n",
      "KeyboardInterrupt\n",
      "Traceback (most recent call last):\n",
      "  File \"/opt/homebrew/Caskroom/miniforge/base/lib/python3.9/multiprocessing/process.py\", line 315, in _bootstrap\n",
      "    self.run()\n",
      "  File \"/opt/homebrew/Caskroom/miniforge/base/lib/python3.9/multiprocessing/process.py\", line 108, in run\n",
      "    self._target(*self._args, **self._kwargs)\n",
      "  File \"/opt/homebrew/Caskroom/miniforge/base/lib/python3.9/multiprocessing/pool.py\", line 125, in worker\n",
      "    result = (True, func(*args, **kwds))\n",
      "  File \"/opt/homebrew/Caskroom/miniforge/base/lib/python3.9/site-packages/tsfel/feature_extraction/calc_features.py\", line 185, in calc_features\n",
      "    feat_val = calc_window_features(dict_features, wind_sig, fs, features_path=features_path, header_names=names)\n",
      "  File \"/opt/homebrew/Caskroom/miniforge/base/lib/python3.9/site-packages/tsfel/feature_extraction/calc_features.py\", line 462, in calc_window_features\n",
      "    eval_result = eval(execf, locals())\n",
      "  File \"<string>\", line 1, in <module>\n",
      "  File \"/opt/homebrew/Caskroom/miniforge/base/lib/python3.9/site-packages/tsfel/feature_extraction/features.py\", line 1403, in mfcc\n",
      "    filter_banks = filterbank(signal, fs, pre_emphasis, nfft, nfilt)\n",
      "  File \"/opt/homebrew/Caskroom/miniforge/base/lib/python3.9/site-packages/tsfel/feature_extraction/features_utils.py\", line 124, in filterbank\n",
      "    filter_banks = np.dot(pow_frames, fbank.T)\n",
      "  File \"<__array_function__ internals>\", line 5, in dot\n",
      "KeyboardInterrupt\n",
      "Traceback (most recent call last):\n",
      "  File \"/opt/homebrew/Caskroom/miniforge/base/lib/python3.9/multiprocessing/process.py\", line 315, in _bootstrap\n",
      "    self.run()\n",
      "  File \"/opt/homebrew/Caskroom/miniforge/base/lib/python3.9/multiprocessing/process.py\", line 108, in run\n",
      "    self._target(*self._args, **self._kwargs)\n",
      "  File \"/opt/homebrew/Caskroom/miniforge/base/lib/python3.9/multiprocessing/pool.py\", line 125, in worker\n",
      "    result = (True, func(*args, **kwds))\n",
      "  File \"/opt/homebrew/Caskroom/miniforge/base/lib/python3.9/site-packages/tsfel/feature_extraction/calc_features.py\", line 185, in calc_features\n",
      "    feat_val = calc_window_features(dict_features, wind_sig, fs, features_path=features_path, header_names=names)\n",
      "  File \"/opt/homebrew/Caskroom/miniforge/base/lib/python3.9/site-packages/tsfel/feature_extraction/calc_features.py\", line 462, in calc_window_features\n",
      "    eval_result = eval(execf, locals())\n",
      "  File \"<string>\", line 1, in <module>\n",
      "  File \"/opt/homebrew/Caskroom/miniforge/base/lib/python3.9/site-packages/tsfel/feature_extraction/features.py\", line 1403, in mfcc\n",
      "    filter_banks = filterbank(signal, fs, pre_emphasis, nfft, nfilt)\n",
      "  File \"/opt/homebrew/Caskroom/miniforge/base/lib/python3.9/site-packages/tsfel/feature_extraction/features_utils.py\", line 124, in filterbank\n",
      "    filter_banks = np.dot(pow_frames, fbank.T)\n",
      "  File \"<__array_function__ internals>\", line 5, in dot\n",
      "KeyboardInterrupt\n",
      "Traceback (most recent call last):\n",
      "  File \"/opt/homebrew/Caskroom/miniforge/base/lib/python3.9/multiprocessing/process.py\", line 315, in _bootstrap\n",
      "    self.run()\n",
      "  File \"/opt/homebrew/Caskroom/miniforge/base/lib/python3.9/multiprocessing/process.py\", line 108, in run\n",
      "    self._target(*self._args, **self._kwargs)\n",
      "  File \"/opt/homebrew/Caskroom/miniforge/base/lib/python3.9/multiprocessing/pool.py\", line 125, in worker\n",
      "    result = (True, func(*args, **kwds))\n",
      "  File \"/opt/homebrew/Caskroom/miniforge/base/lib/python3.9/site-packages/tsfel/feature_extraction/calc_features.py\", line 185, in calc_features\n",
      "    feat_val = calc_window_features(dict_features, wind_sig, fs, features_path=features_path, header_names=names)\n",
      "  File \"/opt/homebrew/Caskroom/miniforge/base/lib/python3.9/site-packages/tsfel/feature_extraction/calc_features.py\", line 462, in calc_window_features\n",
      "    eval_result = eval(execf, locals())\n",
      "  File \"<string>\", line 1, in <module>\n",
      "  File \"/opt/homebrew/Caskroom/miniforge/base/lib/python3.9/site-packages/tsfel/feature_extraction/features.py\", line 1661, in wavelet_std\n",
      "    return tuple((np.std(wavelet(signal, function, widths), axis=1)))\n",
      "  File \"/opt/homebrew/Caskroom/miniforge/base/lib/python3.9/site-packages/tsfel/feature_extraction/features_utils.py\", line 345, in wavelet\n",
      "    cwt = scipy.signal.cwt(signal, function, widths)\n",
      "  File \"/opt/homebrew/Caskroom/miniforge/base/lib/python3.9/site-packages/scipy/signal/wavelets.py\", line 479, in cwt\n",
      "    wavelet_data = np.conj(wavelet(N, width, **kwargs)[::-1])\n",
      "KeyboardInterrupt\n",
      "Traceback (most recent call last):\n",
      "  File \"/opt/homebrew/Caskroom/miniforge/base/lib/python3.9/multiprocessing/process.py\", line 315, in _bootstrap\n",
      "    self.run()\n",
      "  File \"/opt/homebrew/Caskroom/miniforge/base/lib/python3.9/multiprocessing/process.py\", line 108, in run\n",
      "    self._target(*self._args, **self._kwargs)\n",
      "  File \"/opt/homebrew/Caskroom/miniforge/base/lib/python3.9/multiprocessing/pool.py\", line 125, in worker\n",
      "    result = (True, func(*args, **kwds))\n",
      "  File \"/opt/homebrew/Caskroom/miniforge/base/lib/python3.9/site-packages/tsfel/feature_extraction/calc_features.py\", line 185, in calc_features\n",
      "    feat_val = calc_window_features(dict_features, wind_sig, fs, features_path=features_path, header_names=names)\n",
      "  File \"/opt/homebrew/Caskroom/miniforge/base/lib/python3.9/site-packages/tsfel/feature_extraction/calc_features.py\", line 462, in calc_window_features\n",
      "    eval_result = eval(execf, locals())\n",
      "  File \"<string>\", line 1, in <module>\n",
      "  File \"/opt/homebrew/Caskroom/miniforge/base/lib/python3.9/site-packages/tsfel/feature_extraction/features.py\", line 1086, in spectral_kurtosis\n",
      "    f, fmag = calc_fft(signal, fs)\n",
      "  File \"/opt/homebrew/Caskroom/miniforge/base/lib/python3.9/site-packages/tsfel/feature_extraction/features_utils.py\", line 53, in calc_fft\n",
      "    f = np.linspace(0, fs // 2, len(signal) // 2)\n",
      "  File \"<__array_function__ internals>\", line 5, in linspace\n",
      "  File \"/opt/homebrew/Caskroom/miniforge/base/lib/python3.9/site-packages/numpy/core/function_base.py\", line 175, in linspace\n",
      "    return y.astype(dtype, copy=False)\n",
      "KeyboardInterrupt\n",
      "Traceback (most recent call last):\n",
      "  File \"/opt/homebrew/Caskroom/miniforge/base/lib/python3.9/multiprocessing/process.py\", line 315, in _bootstrap\n",
      "    self.run()\n",
      "  File \"/opt/homebrew/Caskroom/miniforge/base/lib/python3.9/multiprocessing/process.py\", line 108, in run\n",
      "    self._target(*self._args, **self._kwargs)\n",
      "  File \"/opt/homebrew/Caskroom/miniforge/base/lib/python3.9/multiprocessing/pool.py\", line 125, in worker\n",
      "    result = (True, func(*args, **kwds))\n",
      "  File \"/opt/homebrew/Caskroom/miniforge/base/lib/python3.9/site-packages/tsfel/feature_extraction/calc_features.py\", line 185, in calc_features\n",
      "    feat_val = calc_window_features(dict_features, wind_sig, fs, features_path=features_path, header_names=names)\n",
      "  File \"/opt/homebrew/Caskroom/miniforge/base/lib/python3.9/site-packages/tsfel/feature_extraction/calc_features.py\", line 462, in calc_window_features\n",
      "    eval_result = eval(execf, locals())\n",
      "  File \"<string>\", line 1, in <module>\n",
      "  File \"/opt/homebrew/Caskroom/miniforge/base/lib/python3.9/site-packages/tsfel/feature_extraction/features.py\", line 1553, in spectral_entropy\n",
      "    sig = signal - np.mean(signal)\n",
      "  File \"<__array_function__ internals>\", line 5, in mean\n",
      "  File \"/opt/homebrew/Caskroom/miniforge/base/lib/python3.9/site-packages/numpy/core/fromnumeric.py\", line 3413, in mean\n",
      "    mean = a.mean\n",
      "KeyboardInterrupt\n",
      "Traceback (most recent call last):\n",
      "  File \"/opt/homebrew/Caskroom/miniforge/base/lib/python3.9/multiprocessing/process.py\", line 315, in _bootstrap\n",
      "    self.run()\n",
      "  File \"/opt/homebrew/Caskroom/miniforge/base/lib/python3.9/multiprocessing/process.py\", line 108, in run\n",
      "    self._target(*self._args, **self._kwargs)\n",
      "  File \"/opt/homebrew/Caskroom/miniforge/base/lib/python3.9/multiprocessing/pool.py\", line 125, in worker\n",
      "    result = (True, func(*args, **kwds))\n",
      "  File \"/opt/homebrew/Caskroom/miniforge/base/lib/python3.9/site-packages/tsfel/feature_extraction/calc_features.py\", line 185, in calc_features\n",
      "    feat_val = calc_window_features(dict_features, wind_sig, fs, features_path=features_path, header_names=names)\n",
      "  File \"/opt/homebrew/Caskroom/miniforge/base/lib/python3.9/site-packages/tsfel/feature_extraction/calc_features.py\", line 462, in calc_window_features\n",
      "    eval_result = eval(execf, locals())\n",
      "  File \"<string>\", line 1, in <module>\n",
      "  File \"/opt/homebrew/Caskroom/miniforge/base/lib/python3.9/site-packages/tsfel/feature_extraction/features.py\", line 641, in mean_abs_deviation\n",
      "    return np.mean(np.abs(signal - np.mean(signal, axis=0)), axis=0)\n",
      "  File \"/opt/homebrew/Caskroom/miniforge/base/lib/python3.9/site-packages/pandas/core/generic.py\", line 2032, in __array_ufunc__\n",
      "    return arraylike.array_ufunc(self, ufunc, method, *inputs, **kwargs)\n",
      "  File \"/opt/homebrew/Caskroom/miniforge/base/lib/python3.9/site-packages/pandas/core/arraylike.py\", line 313, in array_ufunc\n",
      "    name = names[0] if len(set(names)) == 1 else None\n",
      "KeyboardInterrupt\n"
     ]
    },
    {
     "ename": "KeyboardInterrupt",
     "evalue": "",
     "output_type": "error",
     "traceback": [
      "\u001b[0;31m---------------------------------------------------------------------------\u001b[0m",
      "\u001b[0;31mIndexError\u001b[0m                                Traceback (most recent call last)",
      "\u001b[0;32m/opt/homebrew/Caskroom/miniforge/base/lib/python3.9/multiprocessing/pool.py\u001b[0m in \u001b[0;36mnext\u001b[0;34m(self, timeout)\u001b[0m\n\u001b[1;32m    852\u001b[0m             \u001b[0;32mtry\u001b[0m\u001b[0;34m:\u001b[0m\u001b[0;34m\u001b[0m\u001b[0;34m\u001b[0m\u001b[0m\n\u001b[0;32m--> 853\u001b[0;31m                 \u001b[0mitem\u001b[0m \u001b[0;34m=\u001b[0m \u001b[0mself\u001b[0m\u001b[0;34m.\u001b[0m\u001b[0m_items\u001b[0m\u001b[0;34m.\u001b[0m\u001b[0mpopleft\u001b[0m\u001b[0;34m(\u001b[0m\u001b[0;34m)\u001b[0m\u001b[0;34m\u001b[0m\u001b[0;34m\u001b[0m\u001b[0m\n\u001b[0m\u001b[1;32m    854\u001b[0m             \u001b[0;32mexcept\u001b[0m \u001b[0mIndexError\u001b[0m\u001b[0;34m:\u001b[0m\u001b[0;34m\u001b[0m\u001b[0;34m\u001b[0m\u001b[0m\n",
      "\u001b[0;31mIndexError\u001b[0m: pop from an empty deque",
      "\nDuring handling of the above exception, another exception occurred:\n",
      "\u001b[0;31mKeyboardInterrupt\u001b[0m                         Traceback (most recent call last)",
      "\u001b[0;32m/var/folders/nr/1jlc9h_j6xn5wk670sdny7qm0000gn/T/ipykernel_2804/2050609643.py\u001b[0m in \u001b[0;36m<module>\u001b[0;34m\u001b[0m\n\u001b[1;32m     12\u001b[0m \u001b[0;34m\u001b[0m\u001b[0m\n\u001b[1;32m     13\u001b[0m     \u001b[0;31m# parse into tsfel.time_series_features_extractor ### CONFIG_DEFUALT FILE REQUESTS ALL DEFUALT FEATURES ###\u001b[0m\u001b[0;34m\u001b[0m\u001b[0;34m\u001b[0m\u001b[0m\n\u001b[0;32m---> 14\u001b[0;31m     \u001b[0mdata_imu_extracted\u001b[0m \u001b[0;34m=\u001b[0m \u001b[0mtsfel\u001b[0m\u001b[0;34m.\u001b[0m\u001b[0mtime_series_features_extractor\u001b[0m\u001b[0;34m(\u001b[0m\u001b[0mconfig_default\u001b[0m\u001b[0;34m,\u001b[0m \u001b[0mdata_imu\u001b[0m\u001b[0;34m,\u001b[0m \u001b[0mfs\u001b[0m\u001b[0;34m=\u001b[0m\u001b[0;36m100\u001b[0m\u001b[0;34m,\u001b[0m \u001b[0mwindow_size\u001b[0m\u001b[0;34m=\u001b[0m\u001b[0;36m200\u001b[0m\u001b[0;34m,\u001b[0m \u001b[0moverlap\u001b[0m\u001b[0;34m=\u001b[0m\u001b[0;36m0.5\u001b[0m\u001b[0;34m,\u001b[0m \u001b[0mheader_names\u001b[0m\u001b[0;34m=\u001b[0m\u001b[0;34m[\u001b[0m\u001b[0;34m'Ax'\u001b[0m\u001b[0;34m,\u001b[0m \u001b[0;34m'Ay'\u001b[0m\u001b[0;34m,\u001b[0m \u001b[0;34m'Az'\u001b[0m\u001b[0;34m,\u001b[0m \u001b[0;34m'Gx'\u001b[0m\u001b[0;34m,\u001b[0m \u001b[0;34m'Gy'\u001b[0m\u001b[0;34m,\u001b[0m \u001b[0;34m'Gz'\u001b[0m\u001b[0;34m]\u001b[0m\u001b[0;34m)\u001b[0m \u001b[0;31m# extract features, window params\u001b[0m\u001b[0;34m\u001b[0m\u001b[0;34m\u001b[0m\u001b[0m\n\u001b[0m\u001b[1;32m     15\u001b[0m     \u001b[0mdata_label_ID_extracted\u001b[0m \u001b[0;34m=\u001b[0m \u001b[0mtsfel\u001b[0m\u001b[0;34m.\u001b[0m\u001b[0mtime_series_features_extractor\u001b[0m\u001b[0;34m(\u001b[0m\u001b[0mconfig_behavior\u001b[0m\u001b[0;34m,\u001b[0m \u001b[0mdata_label_ID\u001b[0m\u001b[0;34m,\u001b[0m \u001b[0mfs\u001b[0m\u001b[0;34m=\u001b[0m\u001b[0;36m100\u001b[0m\u001b[0;34m,\u001b[0m \u001b[0mwindow_size\u001b[0m\u001b[0;34m=\u001b[0m\u001b[0;36m200\u001b[0m\u001b[0;34m,\u001b[0m \u001b[0moverlap\u001b[0m\u001b[0;34m=\u001b[0m\u001b[0;36m0.5\u001b[0m\u001b[0;34m,\u001b[0m \u001b[0mheader_names\u001b[0m\u001b[0;34m=\u001b[0m\u001b[0;34m[\u001b[0m\u001b[0;34m'DogID'\u001b[0m\u001b[0;34m,\u001b[0m \u001b[0;34m'Behavior_Lying'\u001b[0m\u001b[0;34m,\u001b[0m \u001b[0;34m'Behavior_Moving'\u001b[0m\u001b[0;34m,\u001b[0m \u001b[0;34m'Behavior_Sitting'\u001b[0m\u001b[0;34m,\u001b[0m \u001b[0;34m'Behavior_Standing'\u001b[0m\u001b[0;34m]\u001b[0m\u001b[0;34m)\u001b[0m \u001b[0;31m#extract rolling mean\u001b[0m\u001b[0;34m\u001b[0m\u001b[0;34m\u001b[0m\u001b[0m\n\u001b[1;32m     16\u001b[0m \u001b[0;34m\u001b[0m\u001b[0m\n",
      "\u001b[0;32m/opt/homebrew/Caskroom/miniforge/base/lib/python3.9/site-packages/tsfel/feature_extraction/calc_features.py\u001b[0m in \u001b[0;36mtime_series_features_extractor\u001b[0;34m(dict_features, signal_windows, fs, verbose, **kwargs)\u001b[0m\n\u001b[1;32m    295\u001b[0m                 features = pool.imap(partial(calc_features, dict_features=dict_features, fs=fs,\n\u001b[1;32m    296\u001b[0m                                              features_path=features_path, header_names=names), signal_windows)\n\u001b[0;32m--> 297\u001b[0;31m                 \u001b[0;32mfor\u001b[0m \u001b[0mi\u001b[0m\u001b[0;34m,\u001b[0m \u001b[0mfeat\u001b[0m \u001b[0;32min\u001b[0m \u001b[0menumerate\u001b[0m\u001b[0;34m(\u001b[0m\u001b[0mfeatures\u001b[0m\u001b[0;34m)\u001b[0m\u001b[0;34m:\u001b[0m\u001b[0;34m\u001b[0m\u001b[0;34m\u001b[0m\u001b[0m\n\u001b[0m\u001b[1;32m    298\u001b[0m                     \u001b[0;32mif\u001b[0m \u001b[0mverbose\u001b[0m \u001b[0;34m==\u001b[0m \u001b[0;36m1\u001b[0m\u001b[0;34m:\u001b[0m\u001b[0;34m\u001b[0m\u001b[0;34m\u001b[0m\u001b[0m\n\u001b[1;32m    299\u001b[0m                         \u001b[0mdisplay_progress_bar\u001b[0m\u001b[0;34m(\u001b[0m\u001b[0mi\u001b[0m\u001b[0;34m,\u001b[0m \u001b[0msignal_windows\u001b[0m\u001b[0;34m,\u001b[0m \u001b[0mout\u001b[0m\u001b[0;34m)\u001b[0m\u001b[0;34m\u001b[0m\u001b[0;34m\u001b[0m\u001b[0m\n",
      "\u001b[0;32m/opt/homebrew/Caskroom/miniforge/base/lib/python3.9/multiprocessing/pool.py\u001b[0m in \u001b[0;36mnext\u001b[0;34m(self, timeout)\u001b[0m\n\u001b[1;32m    856\u001b[0m                     \u001b[0mself\u001b[0m\u001b[0;34m.\u001b[0m\u001b[0m_pool\u001b[0m \u001b[0;34m=\u001b[0m \u001b[0;32mNone\u001b[0m\u001b[0;34m\u001b[0m\u001b[0;34m\u001b[0m\u001b[0m\n\u001b[1;32m    857\u001b[0m                     \u001b[0;32mraise\u001b[0m \u001b[0mStopIteration\u001b[0m \u001b[0;32mfrom\u001b[0m \u001b[0;32mNone\u001b[0m\u001b[0;34m\u001b[0m\u001b[0;34m\u001b[0m\u001b[0m\n\u001b[0;32m--> 858\u001b[0;31m                 \u001b[0mself\u001b[0m\u001b[0;34m.\u001b[0m\u001b[0m_cond\u001b[0m\u001b[0;34m.\u001b[0m\u001b[0mwait\u001b[0m\u001b[0;34m(\u001b[0m\u001b[0mtimeout\u001b[0m\u001b[0;34m)\u001b[0m\u001b[0;34m\u001b[0m\u001b[0;34m\u001b[0m\u001b[0m\n\u001b[0m\u001b[1;32m    859\u001b[0m                 \u001b[0;32mtry\u001b[0m\u001b[0;34m:\u001b[0m\u001b[0;34m\u001b[0m\u001b[0;34m\u001b[0m\u001b[0m\n\u001b[1;32m    860\u001b[0m                     \u001b[0mitem\u001b[0m \u001b[0;34m=\u001b[0m \u001b[0mself\u001b[0m\u001b[0;34m.\u001b[0m\u001b[0m_items\u001b[0m\u001b[0;34m.\u001b[0m\u001b[0mpopleft\u001b[0m\u001b[0;34m(\u001b[0m\u001b[0;34m)\u001b[0m\u001b[0;34m\u001b[0m\u001b[0;34m\u001b[0m\u001b[0m\n",
      "\u001b[0;32m/opt/homebrew/Caskroom/miniforge/base/lib/python3.9/threading.py\u001b[0m in \u001b[0;36mwait\u001b[0;34m(self, timeout)\u001b[0m\n\u001b[1;32m    310\u001b[0m         \u001b[0;32mtry\u001b[0m\u001b[0;34m:\u001b[0m    \u001b[0;31m# restore state no matter what (e.g., KeyboardInterrupt)\u001b[0m\u001b[0;34m\u001b[0m\u001b[0;34m\u001b[0m\u001b[0m\n\u001b[1;32m    311\u001b[0m             \u001b[0;32mif\u001b[0m \u001b[0mtimeout\u001b[0m \u001b[0;32mis\u001b[0m \u001b[0;32mNone\u001b[0m\u001b[0;34m:\u001b[0m\u001b[0;34m\u001b[0m\u001b[0;34m\u001b[0m\u001b[0m\n\u001b[0;32m--> 312\u001b[0;31m                 \u001b[0mwaiter\u001b[0m\u001b[0;34m.\u001b[0m\u001b[0macquire\u001b[0m\u001b[0;34m(\u001b[0m\u001b[0;34m)\u001b[0m\u001b[0;34m\u001b[0m\u001b[0;34m\u001b[0m\u001b[0m\n\u001b[0m\u001b[1;32m    313\u001b[0m                 \u001b[0mgotit\u001b[0m \u001b[0;34m=\u001b[0m \u001b[0;32mTrue\u001b[0m\u001b[0;34m\u001b[0m\u001b[0;34m\u001b[0m\u001b[0m\n\u001b[1;32m    314\u001b[0m             \u001b[0;32melse\u001b[0m\u001b[0;34m:\u001b[0m\u001b[0;34m\u001b[0m\u001b[0;34m\u001b[0m\u001b[0m\n",
      "\u001b[0;31mKeyboardInterrupt\u001b[0m: "
     ]
    }
   ],
   "source": [
    "# config files for feature extraction \n",
    "config_imu = tsfel.get_features_by_domain(json_path='./DogMoveFeatures.json') # tsfel config file modified to select statistical features + ecdf functions \n",
    "config_behavior = tsfel.get_features_by_domain(json_path='./DogBehaviorFeatures.json') # tsfel config file modified to select rolling mean only for behavior labels\n",
    "config_default = tsfel.get_features_by_domain() # unmodified .json file extracts all features by default (~60)\n",
    "\n",
    "final_df = pd.DataFrame() #initalise empty dataframe \n",
    "\n",
    "for group in dog_groups: # iterate over subsections dog-wise\n",
    "    # split dataframe \n",
    "    data_imu = group.iloc[:, 2:8] # slice to isolate inertial measurements \n",
    "    data_label_ID = group.iloc[:,[0,8,9,10,11]] # slice to isolate behavior behaviour labels and dogID \n",
    "\n",
    "    # parse into tsfel.time_series_features_extractor ### CONFIG_DEFUALT FILE REQUESTS ALL DEFUALT FEATURES ###\n",
    "    data_imu_extracted = tsfel.time_series_features_extractor(config_default, data_imu, fs=100, window_size=200, overlap=0.5, header_names=['Ax', 'Ay', 'Az', 'Gx', 'Gy', 'Gz']) # extract features, window params\n",
    "    data_label_ID_extracted = tsfel.time_series_features_extractor(config_behavior, data_label_ID, fs=100, window_size=200, overlap=0.5, header_names=['DogID', 'Behavior_Lying', 'Behavior_Moving', 'Behavior_Sitting', 'Behavior_Standing']) #extract rolling mean\n",
    "\n",
    "    # stick dataframes back together - result is a df with extracted features for IMU data and rolling windowed mean for ID and behavior columns \n",
    "    rejoined = pd.concat([data_imu_extracted, data_label_ID_extracted], axis=1) # join by columns\n",
    "    final_df = final_df.append(rejoined) # join by rows \n",
    "    print(final_df.shape)"
   ]
  },
  {
   "cell_type": "code",
   "execution_count": null,
   "metadata": {},
   "outputs": [
    {
     "data": {
      "text/plain": [
       "45"
      ]
     },
     "execution_count": 17,
     "metadata": {},
     "output_type": "execute_result"
    }
   ],
   "source": [
    "len(np.unique(final_df['DogID_Mean'])) # all 45 dogs made it safely through the slicing and sticking operation ! "
   ]
  },
  {
   "cell_type": "code",
   "execution_count": null,
   "metadata": {},
   "outputs": [],
   "source": [
    "final_df.to_csv('AllFeaturesDogMoveDataExtracted.csv', index=False)"
   ]
  },
  {
   "cell_type": "code",
   "execution_count": null,
   "metadata": {},
   "outputs": [],
   "source": []
  }
 ],
 "metadata": {
  "interpreter": {
   "hash": "c6e4e9f98eb68ad3b7c296f83d20e6de614cb42e90992a65aa266555a3137d0d"
  },
  "kernelspec": {
   "display_name": "Python 3.9.7 64-bit ('base': conda)",
   "language": "python",
   "name": "python3"
  },
  "language_info": {
   "codemirror_mode": {
    "name": "ipython",
    "version": 3
   },
   "file_extension": ".py",
   "mimetype": "text/x-python",
   "name": "python",
   "nbconvert_exporter": "python",
   "pygments_lexer": "ipython3",
   "version": "3.9.7"
  },
  "orig_nbformat": 4
 },
 "nbformat": 4,
 "nbformat_minor": 2
}
