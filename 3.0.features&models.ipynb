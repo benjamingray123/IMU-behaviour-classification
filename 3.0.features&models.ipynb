{
 "cells": [
  {
   "cell_type": "code",
   "execution_count": 31,
   "metadata": {},
   "outputs": [],
   "source": [
    "import numpy as np\n",
    "import pandas as pd\n",
    "pd.set_option('display.max_columns', None)\n",
    "import matplotlib.pyplot as plt\n",
    "%matplotlib inline \n",
    "import seaborn as sns \n",
    "from sklearn import preprocessing\n",
    "from sklearn.feature_selection import SelectKBest\n",
    "from sklearn.feature_selection import f_classif\n",
    "from sklearn.ensemble import ExtraTreesClassifier\n",
    "from sklearn.model_selection import LeaveOneGroupOut, train_test_split\n",
    "from sklearn.metrics import confusion_matrix, ConfusionMatrixDisplay\n",
    "from sklearn.tree import DecisionTreeClassifier\n",
    "from sklearn.metrics import f1_score\n",
    "from sklearn.svm import SVC\n",
    "from sklearn.neighbors import KNeighborsClassifier\n",
    "from sklearn.naive_bayes import GaussianNB"
   ]
  },
  {
   "cell_type": "markdown",
   "metadata": {},
   "source": [
    "# feature engineering"
   ]
  },
  {
   "cell_type": "code",
   "execution_count": 32,
   "metadata": {},
   "outputs": [],
   "source": [
    "df = pd.read_csv('./DogMoveDataExtracted.csv')"
   ]
  },
  {
   "cell_type": "code",
   "execution_count": 33,
   "metadata": {},
   "outputs": [],
   "source": [
    "# sum of triaxial SD for each sensor modality \n",
    "df['Axyz_SD'] = (df['Ax_Standard deviation'] + df['Ay_Standard deviation'] + df['Ax_Standard deviation'])\n",
    "df['Gxyz_SD'] = (df['Gx_Standard deviation'] + df['Gy_Standard deviation'] + df['Gx_Standard deviation'])\n",
    "\n",
    "# mean value (3 axes, 2 sensor modalities = 6 total)\n",
    "# already included in dataframe (one of the default features to be extracted by tsfel)\n",
    "\n",
    "# sum of triaxial zero crossing rate for each sensor modality\n",
    "df['Axyz_ZCR'] = df['Ax_Zero crossing rate'] + df['Ay_Zero crossing rate'] + df['Az_Zero crossing rate']\n",
    "df['Gxyz_ZCR'] = df['Gx_Zero crossing rate'] + df['Gy_Zero crossing rate'] + df['Gz_Zero crossing rate']"
   ]
  },
  {
   "cell_type": "code",
   "execution_count": 34,
   "metadata": {},
   "outputs": [
    {
     "data": {
      "text/html": [
       "<div>\n",
       "<style scoped>\n",
       "    .dataframe tbody tr th:only-of-type {\n",
       "        vertical-align: middle;\n",
       "    }\n",
       "\n",
       "    .dataframe tbody tr th {\n",
       "        vertical-align: top;\n",
       "    }\n",
       "\n",
       "    .dataframe thead th {\n",
       "        text-align: right;\n",
       "    }\n",
       "</style>\n",
       "<table border=\"1\" class=\"dataframe\">\n",
       "  <thead>\n",
       "    <tr style=\"text-align: right;\">\n",
       "      <th></th>\n",
       "      <th>Behavior_Moving_Mean</th>\n",
       "      <th>Behavior_Sitting_Mean</th>\n",
       "    </tr>\n",
       "  </thead>\n",
       "  <tbody>\n",
       "    <tr>\n",
       "      <th>114</th>\n",
       "      <td>1.00</td>\n",
       "      <td>0.00</td>\n",
       "    </tr>\n",
       "    <tr>\n",
       "      <th>115</th>\n",
       "      <td>0.81</td>\n",
       "      <td>0.19</td>\n",
       "    </tr>\n",
       "    <tr>\n",
       "      <th>116</th>\n",
       "      <td>0.31</td>\n",
       "      <td>0.69</td>\n",
       "    </tr>\n",
       "    <tr>\n",
       "      <th>117</th>\n",
       "      <td>0.00</td>\n",
       "      <td>1.00</td>\n",
       "    </tr>\n",
       "  </tbody>\n",
       "</table>\n",
       "</div>"
      ],
      "text/plain": [
       "     Behavior_Moving_Mean  Behavior_Sitting_Mean\n",
       "114                  1.00                   0.00\n",
       "115                  0.81                   0.19\n",
       "116                  0.31                   0.69\n",
       "117                  0.00                   1.00"
      ]
     },
     "execution_count": 34,
     "metadata": {},
     "output_type": "execute_result"
    }
   ],
   "source": [
    "df.iloc[114:118, -8:-6] # labels have some values between 0 and 1 where there was a transition of behavior, as shown here "
   ]
  },
  {
   "cell_type": "code",
   "execution_count": 35,
   "metadata": {},
   "outputs": [],
   "source": [
    "for col in ['Behavior_Lying_Mean', 'Behavior_Moving_Mean', 'Behavior_Sitting_Mean', 'Behavior_Standing_Mean']:\n",
    "    df[col] = np.where(df[col] >= 0.5, 1, 0) # replace values >= 0.5 with 1, else 0 "
   ]
  },
  {
   "cell_type": "code",
   "execution_count": 36,
   "metadata": {},
   "outputs": [
    {
     "data": {
      "text/html": [
       "<div>\n",
       "<style scoped>\n",
       "    .dataframe tbody tr th:only-of-type {\n",
       "        vertical-align: middle;\n",
       "    }\n",
       "\n",
       "    .dataframe tbody tr th {\n",
       "        vertical-align: top;\n",
       "    }\n",
       "\n",
       "    .dataframe thead th {\n",
       "        text-align: right;\n",
       "    }\n",
       "</style>\n",
       "<table border=\"1\" class=\"dataframe\">\n",
       "  <thead>\n",
       "    <tr style=\"text-align: right;\">\n",
       "      <th></th>\n",
       "      <th>Behavior_Moving_Mean</th>\n",
       "      <th>Behavior_Sitting_Mean</th>\n",
       "    </tr>\n",
       "  </thead>\n",
       "  <tbody>\n",
       "    <tr>\n",
       "      <th>114</th>\n",
       "      <td>1</td>\n",
       "      <td>0</td>\n",
       "    </tr>\n",
       "    <tr>\n",
       "      <th>115</th>\n",
       "      <td>1</td>\n",
       "      <td>0</td>\n",
       "    </tr>\n",
       "    <tr>\n",
       "      <th>116</th>\n",
       "      <td>0</td>\n",
       "      <td>1</td>\n",
       "    </tr>\n",
       "    <tr>\n",
       "      <th>117</th>\n",
       "      <td>0</td>\n",
       "      <td>1</td>\n",
       "    </tr>\n",
       "  </tbody>\n",
       "</table>\n",
       "</div>"
      ],
      "text/plain": [
       "     Behavior_Moving_Mean  Behavior_Sitting_Mean\n",
       "114                     1                      0\n",
       "115                     1                      0\n",
       "116                     0                      1\n",
       "117                     0                      1"
      ]
     },
     "execution_count": 36,
     "metadata": {},
     "output_type": "execute_result"
    }
   ],
   "source": [
    "df.iloc[114:118, -8:-6] # confirm that the change has been made "
   ]
  },
  {
   "cell_type": "code",
   "execution_count": 37,
   "metadata": {},
   "outputs": [
    {
     "name": "stdout",
     "output_type": "stream",
     "text": [
      "44 45 \n",
      " [16. 18. 19. 20. 21. 22. 23. 25. 26. 27. 28. 29. 30. 33. 34. 36. 39. 41.\n",
      " 43. 44. 45. 46. 47. 48. 49. 51. 52. 53. 54. 55. 56. 57. 58. 59. 60. 61.\n",
      " 63. 65. 66. 67. 68. 70. 72. 73. 74.]\n"
     ]
    }
   ],
   "source": [
    "# position offset is a measure of how far an observation is from the subject's baseline. Kumpulainen et al., (2021) used the mean of standing for their baseline.\n",
    "# with this mean of standing, the position offset can be calculated and used as a valuable feature in a classification model\n",
    "\n",
    "df.groupby('DogID_Mean') \n",
    "mean_standing = df.iloc[np.where(df['Behavior_Standing_Mean'] == 1)] # select only rows where dog is standing \n",
    "mean_standing = mean_standing.iloc[:,[7,17,27,37,47,57,-5]] # select only gyro and acc columns + dog ID \n",
    "height = pd.DataFrame() # height dataframe will be populated with the 'mean of standing' values for each dog, for each sensor \n",
    "\n",
    "dict = np.unique(mean_standing['DogID_Mean']) # unique dog IDs in new dataframe (used for calculating position offset) = 44\n",
    "dict2 = np.unique(df['DogID_Mean']) # but unique dog IDs in the original dataframe = 45! \n",
    "print(len(dict), len(dict2),'\\n', dict2) # where did the lost dog go? suspect it was never labeled as 'standing' by Kumpulainen & colleagues\n",
    "\n",
    "for x in dict: # iterate over individual dogs \n",
    "    temp = mean_standing.iloc[np.where(mean_standing['DogID_Mean'] == x)] # temp df where DogID == dog (x) \n",
    "    avg = temp.mean() # take mean of standing for that dog \n",
    "    height = height.append({'DogID':x,'Axyz_Mean_Standing':[avg[0],avg[1], avg[2]], 'Gxyz_Mean_Standing':[avg[3], avg[4], avg[5]]}, ignore_index=True) # add mean of standing for each dog to a new df\n",
    "\n",
    "height = height.append({'DogID':58.0,'Axyz_Mean_Standing':[0.1,0.1,0.1], 'Gxyz_Mean_Standing':[0.1,0.1,0.1]}, ignore_index=True) \n",
    "# manually impute Axyz & Gxyz values for missing dog (58)"
   ]
  },
  {
   "cell_type": "code",
   "execution_count": 38,
   "metadata": {},
   "outputs": [
    {
     "data": {
      "text/html": [
       "<div>\n",
       "<style scoped>\n",
       "    .dataframe tbody tr th:only-of-type {\n",
       "        vertical-align: middle;\n",
       "    }\n",
       "\n",
       "    .dataframe tbody tr th {\n",
       "        vertical-align: top;\n",
       "    }\n",
       "\n",
       "    .dataframe thead th {\n",
       "        text-align: right;\n",
       "    }\n",
       "</style>\n",
       "<table border=\"1\" class=\"dataframe\">\n",
       "  <thead>\n",
       "    <tr style=\"text-align: right;\">\n",
       "      <th></th>\n",
       "      <th>Ax_ECDF Percentile_0</th>\n",
       "      <th>Ax_ECDF Percentile_1</th>\n",
       "      <th>Ax_ECDF Percentile_2</th>\n",
       "      <th>Ax_ECDF Percentile_3</th>\n",
       "      <th>Ax_ECDF Percentile_4</th>\n",
       "      <th>Ax_ECDF Percentile_5</th>\n",
       "      <th>Ax_ECDF Percentile_6</th>\n",
       "      <th>Ax_Mean</th>\n",
       "      <th>Ax_Standard deviation</th>\n",
       "      <th>Ax_Zero crossing rate</th>\n",
       "      <th>Ay_ECDF Percentile_0</th>\n",
       "      <th>Ay_ECDF Percentile_1</th>\n",
       "      <th>Ay_ECDF Percentile_2</th>\n",
       "      <th>Ay_ECDF Percentile_3</th>\n",
       "      <th>Ay_ECDF Percentile_4</th>\n",
       "      <th>Ay_ECDF Percentile_5</th>\n",
       "      <th>Ay_ECDF Percentile_6</th>\n",
       "      <th>Ay_Mean</th>\n",
       "      <th>Ay_Standard deviation</th>\n",
       "      <th>Ay_Zero crossing rate</th>\n",
       "      <th>Az_ECDF Percentile_0</th>\n",
       "      <th>Az_ECDF Percentile_1</th>\n",
       "      <th>Az_ECDF Percentile_2</th>\n",
       "      <th>Az_ECDF Percentile_3</th>\n",
       "      <th>Az_ECDF Percentile_4</th>\n",
       "      <th>Az_ECDF Percentile_5</th>\n",
       "      <th>Az_ECDF Percentile_6</th>\n",
       "      <th>Az_Mean</th>\n",
       "      <th>Az_Standard deviation</th>\n",
       "      <th>Az_Zero crossing rate</th>\n",
       "      <th>Gx_ECDF Percentile_0</th>\n",
       "      <th>Gx_ECDF Percentile_1</th>\n",
       "      <th>Gx_ECDF Percentile_2</th>\n",
       "      <th>Gx_ECDF Percentile_3</th>\n",
       "      <th>Gx_ECDF Percentile_4</th>\n",
       "      <th>Gx_ECDF Percentile_5</th>\n",
       "      <th>Gx_ECDF Percentile_6</th>\n",
       "      <th>Gx_Mean</th>\n",
       "      <th>Gx_Standard deviation</th>\n",
       "      <th>Gx_Zero crossing rate</th>\n",
       "      <th>Gy_ECDF Percentile_0</th>\n",
       "      <th>Gy_ECDF Percentile_1</th>\n",
       "      <th>Gy_ECDF Percentile_2</th>\n",
       "      <th>Gy_ECDF Percentile_3</th>\n",
       "      <th>Gy_ECDF Percentile_4</th>\n",
       "      <th>Gy_ECDF Percentile_5</th>\n",
       "      <th>Gy_ECDF Percentile_6</th>\n",
       "      <th>Gy_Mean</th>\n",
       "      <th>Gy_Standard deviation</th>\n",
       "      <th>Gy_Zero crossing rate</th>\n",
       "      <th>Gz_ECDF Percentile_0</th>\n",
       "      <th>Gz_ECDF Percentile_1</th>\n",
       "      <th>Gz_ECDF Percentile_2</th>\n",
       "      <th>Gz_ECDF Percentile_3</th>\n",
       "      <th>Gz_ECDF Percentile_4</th>\n",
       "      <th>Gz_ECDF Percentile_5</th>\n",
       "      <th>Gz_ECDF Percentile_6</th>\n",
       "      <th>Gz_Mean</th>\n",
       "      <th>Gz_Standard deviation</th>\n",
       "      <th>Gz_Zero crossing rate</th>\n",
       "      <th>Behavior_Lying_Mean</th>\n",
       "      <th>Behavior_Moving_Mean</th>\n",
       "      <th>Behavior_Sitting_Mean</th>\n",
       "      <th>Behavior_Standing_Mean</th>\n",
       "      <th>DogID_Mean</th>\n",
       "      <th>Axyz_SD</th>\n",
       "      <th>Gxyz_SD</th>\n",
       "      <th>Axyz_ZCR</th>\n",
       "      <th>Gxyz_ZCR</th>\n",
       "      <th>APO</th>\n",
       "      <th>GPO</th>\n",
       "    </tr>\n",
       "  </thead>\n",
       "  <tbody>\n",
       "    <tr>\n",
       "      <th>0</th>\n",
       "      <td>-0.143066</td>\n",
       "      <td>-0.022461</td>\n",
       "      <td>0.080566</td>\n",
       "      <td>0.145996</td>\n",
       "      <td>0.228027</td>\n",
       "      <td>0.292969</td>\n",
       "      <td>0.458496</td>\n",
       "      <td>0.150505</td>\n",
       "      <td>0.272173</td>\n",
       "      <td>15.0</td>\n",
       "      <td>-0.080078</td>\n",
       "      <td>0.009277</td>\n",
       "      <td>0.083496</td>\n",
       "      <td>0.121094</td>\n",
       "      <td>0.185059</td>\n",
       "      <td>0.248047</td>\n",
       "      <td>0.362793</td>\n",
       "      <td>0.151338</td>\n",
       "      <td>0.222240</td>\n",
       "      <td>24.0</td>\n",
       "      <td>0.743652</td>\n",
       "      <td>0.797852</td>\n",
       "      <td>0.837402</td>\n",
       "      <td>0.909668</td>\n",
       "      <td>1.002441</td>\n",
       "      <td>1.098145</td>\n",
       "      <td>1.166992</td>\n",
       "      <td>0.942500</td>\n",
       "      <td>0.182289</td>\n",
       "      <td>0.0</td>\n",
       "      <td>-28.747560</td>\n",
       "      <td>-18.798829</td>\n",
       "      <td>-11.169434</td>\n",
       "      <td>-3.906250</td>\n",
       "      <td>3.051758</td>\n",
       "      <td>9.887696</td>\n",
       "      <td>18.249513</td>\n",
       "      <td>-3.989258</td>\n",
       "      <td>22.366513</td>\n",
       "      <td>26.0</td>\n",
       "      <td>-75.500493</td>\n",
       "      <td>-41.442874</td>\n",
       "      <td>-14.099122</td>\n",
       "      <td>5.615235</td>\n",
       "      <td>26.611330</td>\n",
       "      <td>42.419436</td>\n",
       "      <td>57.678226</td>\n",
       "      <td>-1.152344</td>\n",
       "      <td>53.702158</td>\n",
       "      <td>22.0</td>\n",
       "      <td>-85.876470</td>\n",
       "      <td>-51.696780</td>\n",
       "      <td>-25.878908</td>\n",
       "      <td>31.188967</td>\n",
       "      <td>59.387211</td>\n",
       "      <td>78.552251</td>\n",
       "      <td>91.735845</td>\n",
       "      <td>12.845765</td>\n",
       "      <td>73.371791</td>\n",
       "      <td>7.0</td>\n",
       "      <td>0</td>\n",
       "      <td>1</td>\n",
       "      <td>0</td>\n",
       "      <td>0</td>\n",
       "      <td>16.0</td>\n",
       "      <td>0.766586</td>\n",
       "      <td>98.435184</td>\n",
       "      <td>39.0</td>\n",
       "      <td>55.0</td>\n",
       "      <td>0.258720</td>\n",
       "      <td>12.933980</td>\n",
       "    </tr>\n",
       "    <tr>\n",
       "      <th>1</th>\n",
       "      <td>-0.240234</td>\n",
       "      <td>-0.057617</td>\n",
       "      <td>0.047852</td>\n",
       "      <td>0.135254</td>\n",
       "      <td>0.223633</td>\n",
       "      <td>0.305176</td>\n",
       "      <td>0.585449</td>\n",
       "      <td>0.235457</td>\n",
       "      <td>1.521563</td>\n",
       "      <td>17.0</td>\n",
       "      <td>-0.102539</td>\n",
       "      <td>0.007813</td>\n",
       "      <td>0.063477</td>\n",
       "      <td>0.107910</td>\n",
       "      <td>0.187988</td>\n",
       "      <td>0.258789</td>\n",
       "      <td>0.426758</td>\n",
       "      <td>0.141038</td>\n",
       "      <td>0.299801</td>\n",
       "      <td>28.0</td>\n",
       "      <td>0.528320</td>\n",
       "      <td>0.727051</td>\n",
       "      <td>0.795898</td>\n",
       "      <td>0.876465</td>\n",
       "      <td>0.956543</td>\n",
       "      <td>1.068848</td>\n",
       "      <td>1.192383</td>\n",
       "      <td>0.600957</td>\n",
       "      <td>1.095543</td>\n",
       "      <td>3.0</td>\n",
       "      <td>-35.278322</td>\n",
       "      <td>-23.071290</td>\n",
       "      <td>-15.258790</td>\n",
       "      <td>-5.310059</td>\n",
       "      <td>2.868653</td>\n",
       "      <td>11.291505</td>\n",
       "      <td>28.686525</td>\n",
       "      <td>3.672180</td>\n",
       "      <td>49.716805</td>\n",
       "      <td>23.0</td>\n",
       "      <td>-80.810552</td>\n",
       "      <td>-41.381838</td>\n",
       "      <td>-13.488770</td>\n",
       "      <td>11.169434</td>\n",
       "      <td>36.682131</td>\n",
       "      <td>52.062991</td>\n",
       "      <td>71.716313</td>\n",
       "      <td>-0.671997</td>\n",
       "      <td>355.114240</td>\n",
       "      <td>22.0</td>\n",
       "      <td>-92.041021</td>\n",
       "      <td>-69.335942</td>\n",
       "      <td>-38.024905</td>\n",
       "      <td>18.859864</td>\n",
       "      <td>42.480471</td>\n",
       "      <td>76.171880</td>\n",
       "      <td>93.322760</td>\n",
       "      <td>5.334778</td>\n",
       "      <td>83.761459</td>\n",
       "      <td>10.0</td>\n",
       "      <td>0</td>\n",
       "      <td>1</td>\n",
       "      <td>0</td>\n",
       "      <td>0</td>\n",
       "      <td>16.0</td>\n",
       "      <td>3.342927</td>\n",
       "      <td>454.547851</td>\n",
       "      <td>48.0</td>\n",
       "      <td>55.0</td>\n",
       "      <td>0.312724</td>\n",
       "      <td>6.280836</td>\n",
       "    </tr>\n",
       "    <tr>\n",
       "      <th>2</th>\n",
       "      <td>-4.384277</td>\n",
       "      <td>-0.348145</td>\n",
       "      <td>-0.023438</td>\n",
       "      <td>0.162109</td>\n",
       "      <td>0.504395</td>\n",
       "      <td>2.643555</td>\n",
       "      <td>7.248535</td>\n",
       "      <td>0.751301</td>\n",
       "      <td>5.305160</td>\n",
       "      <td>20.0</td>\n",
       "      <td>-1.432617</td>\n",
       "      <td>-0.395996</td>\n",
       "      <td>-0.047363</td>\n",
       "      <td>0.045410</td>\n",
       "      <td>0.159668</td>\n",
       "      <td>0.291992</td>\n",
       "      <td>0.968262</td>\n",
       "      <td>-0.168330</td>\n",
       "      <td>1.283947</td>\n",
       "      <td>38.0</td>\n",
       "      <td>-5.763672</td>\n",
       "      <td>-4.580078</td>\n",
       "      <td>-3.578125</td>\n",
       "      <td>-2.059570</td>\n",
       "      <td>0.637207</td>\n",
       "      <td>0.836426</td>\n",
       "      <td>1.164063</td>\n",
       "      <td>-2.018865</td>\n",
       "      <td>2.984131</td>\n",
       "      <td>13.0</td>\n",
       "      <td>-41.503909</td>\n",
       "      <td>-23.315431</td>\n",
       "      <td>-4.760742</td>\n",
       "      <td>16.540528</td>\n",
       "      <td>95.275885</td>\n",
       "      <td>168.090831</td>\n",
       "      <td>315.856953</td>\n",
       "      <td>90.644842</td>\n",
       "      <td>208.561333</td>\n",
       "      <td>24.0</td>\n",
       "      <td>-1473.877043</td>\n",
       "      <td>-823.974660</td>\n",
       "      <td>-46.142581</td>\n",
       "      <td>3.662110</td>\n",
       "      <td>57.006839</td>\n",
       "      <td>541.198764</td>\n",
       "      <td>1384.887780</td>\n",
       "      <td>-30.523989</td>\n",
       "      <td>1028.757185</td>\n",
       "      <td>22.0</td>\n",
       "      <td>-244.628921</td>\n",
       "      <td>-115.356452</td>\n",
       "      <td>-65.856938</td>\n",
       "      <td>-12.329102</td>\n",
       "      <td>66.406254</td>\n",
       "      <td>120.483406</td>\n",
       "      <td>246.948257</td>\n",
       "      <td>0.733643</td>\n",
       "      <td>227.020670</td>\n",
       "      <td>18.0</td>\n",
       "      <td>0</td>\n",
       "      <td>1</td>\n",
       "      <td>0</td>\n",
       "      <td>0</td>\n",
       "      <td>16.0</td>\n",
       "      <td>11.894268</td>\n",
       "      <td>1445.879850</td>\n",
       "      <td>71.0</td>\n",
       "      <td>64.0</td>\n",
       "      <td>2.923575</td>\n",
       "      <td>95.953764</td>\n",
       "    </tr>\n",
       "    <tr>\n",
       "      <th>3</th>\n",
       "      <td>-6.052734</td>\n",
       "      <td>-2.582520</td>\n",
       "      <td>-0.201660</td>\n",
       "      <td>0.225586</td>\n",
       "      <td>0.881836</td>\n",
       "      <td>4.084961</td>\n",
       "      <td>7.791992</td>\n",
       "      <td>0.574026</td>\n",
       "      <td>6.160287</td>\n",
       "      <td>23.0</td>\n",
       "      <td>-2.360840</td>\n",
       "      <td>-1.245605</td>\n",
       "      <td>-0.578613</td>\n",
       "      <td>-0.059570</td>\n",
       "      <td>0.205078</td>\n",
       "      <td>0.550781</td>\n",
       "      <td>1.342285</td>\n",
       "      <td>-0.385298</td>\n",
       "      <td>1.611561</td>\n",
       "      <td>37.0</td>\n",
       "      <td>-5.896484</td>\n",
       "      <td>-4.989746</td>\n",
       "      <td>-3.798340</td>\n",
       "      <td>-3.117188</td>\n",
       "      <td>-1.792480</td>\n",
       "      <td>0.210938</td>\n",
       "      <td>1.014648</td>\n",
       "      <td>-2.651589</td>\n",
       "      <td>2.813742</td>\n",
       "      <td>21.0</td>\n",
       "      <td>-126.892098</td>\n",
       "      <td>-26.245119</td>\n",
       "      <td>19.226075</td>\n",
       "      <td>42.358401</td>\n",
       "      <td>119.201667</td>\n",
       "      <td>213.500990</td>\n",
       "      <td>336.853048</td>\n",
       "      <td>95.704657</td>\n",
       "      <td>243.888270</td>\n",
       "      <td>30.0</td>\n",
       "      <td>-1523.742769</td>\n",
       "      <td>-1048.645084</td>\n",
       "      <td>-236.206069</td>\n",
       "      <td>-8.117676</td>\n",
       "      <td>279.602068</td>\n",
       "      <td>1068.542546</td>\n",
       "      <td>1462.341398</td>\n",
       "      <td>3.024903</td>\n",
       "      <td>1148.386039</td>\n",
       "      <td>23.0</td>\n",
       "      <td>-342.468283</td>\n",
       "      <td>-216.857923</td>\n",
       "      <td>-57.861332</td>\n",
       "      <td>26.733400</td>\n",
       "      <td>104.980475</td>\n",
       "      <td>192.749035</td>\n",
       "      <td>370.239280</td>\n",
       "      <td>11.861878</td>\n",
       "      <td>293.007744</td>\n",
       "      <td>25.0</td>\n",
       "      <td>0</td>\n",
       "      <td>1</td>\n",
       "      <td>0</td>\n",
       "      <td>0</td>\n",
       "      <td>16.0</td>\n",
       "      <td>13.932136</td>\n",
       "      <td>1636.162580</td>\n",
       "      <td>81.0</td>\n",
       "      <td>78.0</td>\n",
       "      <td>3.561096</td>\n",
       "      <td>96.697896</td>\n",
       "    </tr>\n",
       "    <tr>\n",
       "      <th>4</th>\n",
       "      <td>-1.507324</td>\n",
       "      <td>-0.171875</td>\n",
       "      <td>0.030591</td>\n",
       "      <td>0.160645</td>\n",
       "      <td>0.269043</td>\n",
       "      <td>0.431680</td>\n",
       "      <td>0.729492</td>\n",
       "      <td>0.071387</td>\n",
       "      <td>3.456329</td>\n",
       "      <td>23.0</td>\n",
       "      <td>-0.957520</td>\n",
       "      <td>-0.067095</td>\n",
       "      <td>0.067559</td>\n",
       "      <td>0.178711</td>\n",
       "      <td>0.248599</td>\n",
       "      <td>0.305371</td>\n",
       "      <td>0.441895</td>\n",
       "      <td>-0.081916</td>\n",
       "      <td>1.071097</td>\n",
       "      <td>24.0</td>\n",
       "      <td>-2.474609</td>\n",
       "      <td>-0.307129</td>\n",
       "      <td>0.619141</td>\n",
       "      <td>0.780938</td>\n",
       "      <td>0.899043</td>\n",
       "      <td>1.050640</td>\n",
       "      <td>1.200371</td>\n",
       "      <td>-0.039912</td>\n",
       "      <td>1.880868</td>\n",
       "      <td>11.0</td>\n",
       "      <td>-71.640629</td>\n",
       "      <td>-29.663088</td>\n",
       "      <td>-11.762086</td>\n",
       "      <td>-0.854492</td>\n",
       "      <td>11.593018</td>\n",
       "      <td>27.893068</td>\n",
       "      <td>50.667728</td>\n",
       "      <td>6.321506</td>\n",
       "      <td>139.989011</td>\n",
       "      <td>25.0</td>\n",
       "      <td>-344.360373</td>\n",
       "      <td>-36.958010</td>\n",
       "      <td>-6.726075</td>\n",
       "      <td>19.895021</td>\n",
       "      <td>44.738772</td>\n",
       "      <td>71.054692</td>\n",
       "      <td>494.995147</td>\n",
       "      <td>41.166543</td>\n",
       "      <td>619.726249</td>\n",
       "      <td>20.0</td>\n",
       "      <td>-169.982921</td>\n",
       "      <td>-64.880375</td>\n",
       "      <td>-31.862795</td>\n",
       "      <td>10.925294</td>\n",
       "      <td>61.279301</td>\n",
       "      <td>102.167975</td>\n",
       "      <td>136.962899</td>\n",
       "      <td>14.580338</td>\n",
       "      <td>202.653820</td>\n",
       "      <td>19.0</td>\n",
       "      <td>0</td>\n",
       "      <td>1</td>\n",
       "      <td>0</td>\n",
       "      <td>0</td>\n",
       "      <td>16.0</td>\n",
       "      <td>7.983756</td>\n",
       "      <td>899.704271</td>\n",
       "      <td>58.0</td>\n",
       "      <td>64.0</td>\n",
       "      <td>0.986764</td>\n",
       "      <td>43.882451</td>\n",
       "    </tr>\n",
       "  </tbody>\n",
       "</table>\n",
       "</div>"
      ],
      "text/plain": [
       "   Ax_ECDF Percentile_0  Ax_ECDF Percentile_1  Ax_ECDF Percentile_2  \\\n",
       "0             -0.143066             -0.022461              0.080566   \n",
       "1             -0.240234             -0.057617              0.047852   \n",
       "2             -4.384277             -0.348145             -0.023438   \n",
       "3             -6.052734             -2.582520             -0.201660   \n",
       "4             -1.507324             -0.171875              0.030591   \n",
       "\n",
       "   Ax_ECDF Percentile_3  Ax_ECDF Percentile_4  Ax_ECDF Percentile_5  \\\n",
       "0              0.145996              0.228027              0.292969   \n",
       "1              0.135254              0.223633              0.305176   \n",
       "2              0.162109              0.504395              2.643555   \n",
       "3              0.225586              0.881836              4.084961   \n",
       "4              0.160645              0.269043              0.431680   \n",
       "\n",
       "   Ax_ECDF Percentile_6   Ax_Mean  Ax_Standard deviation  \\\n",
       "0              0.458496  0.150505               0.272173   \n",
       "1              0.585449  0.235457               1.521563   \n",
       "2              7.248535  0.751301               5.305160   \n",
       "3              7.791992  0.574026               6.160287   \n",
       "4              0.729492  0.071387               3.456329   \n",
       "\n",
       "   Ax_Zero crossing rate  Ay_ECDF Percentile_0  Ay_ECDF Percentile_1  \\\n",
       "0                   15.0             -0.080078              0.009277   \n",
       "1                   17.0             -0.102539              0.007813   \n",
       "2                   20.0             -1.432617             -0.395996   \n",
       "3                   23.0             -2.360840             -1.245605   \n",
       "4                   23.0             -0.957520             -0.067095   \n",
       "\n",
       "   Ay_ECDF Percentile_2  Ay_ECDF Percentile_3  Ay_ECDF Percentile_4  \\\n",
       "0              0.083496              0.121094              0.185059   \n",
       "1              0.063477              0.107910              0.187988   \n",
       "2             -0.047363              0.045410              0.159668   \n",
       "3             -0.578613             -0.059570              0.205078   \n",
       "4              0.067559              0.178711              0.248599   \n",
       "\n",
       "   Ay_ECDF Percentile_5  Ay_ECDF Percentile_6   Ay_Mean  \\\n",
       "0              0.248047              0.362793  0.151338   \n",
       "1              0.258789              0.426758  0.141038   \n",
       "2              0.291992              0.968262 -0.168330   \n",
       "3              0.550781              1.342285 -0.385298   \n",
       "4              0.305371              0.441895 -0.081916   \n",
       "\n",
       "   Ay_Standard deviation  Ay_Zero crossing rate  Az_ECDF Percentile_0  \\\n",
       "0               0.222240                   24.0              0.743652   \n",
       "1               0.299801                   28.0              0.528320   \n",
       "2               1.283947                   38.0             -5.763672   \n",
       "3               1.611561                   37.0             -5.896484   \n",
       "4               1.071097                   24.0             -2.474609   \n",
       "\n",
       "   Az_ECDF Percentile_1  Az_ECDF Percentile_2  Az_ECDF Percentile_3  \\\n",
       "0              0.797852              0.837402              0.909668   \n",
       "1              0.727051              0.795898              0.876465   \n",
       "2             -4.580078             -3.578125             -2.059570   \n",
       "3             -4.989746             -3.798340             -3.117188   \n",
       "4             -0.307129              0.619141              0.780938   \n",
       "\n",
       "   Az_ECDF Percentile_4  Az_ECDF Percentile_5  Az_ECDF Percentile_6   Az_Mean  \\\n",
       "0              1.002441              1.098145              1.166992  0.942500   \n",
       "1              0.956543              1.068848              1.192383  0.600957   \n",
       "2              0.637207              0.836426              1.164063 -2.018865   \n",
       "3             -1.792480              0.210938              1.014648 -2.651589   \n",
       "4              0.899043              1.050640              1.200371 -0.039912   \n",
       "\n",
       "   Az_Standard deviation  Az_Zero crossing rate  Gx_ECDF Percentile_0  \\\n",
       "0               0.182289                    0.0            -28.747560   \n",
       "1               1.095543                    3.0            -35.278322   \n",
       "2               2.984131                   13.0            -41.503909   \n",
       "3               2.813742                   21.0           -126.892098   \n",
       "4               1.880868                   11.0            -71.640629   \n",
       "\n",
       "   Gx_ECDF Percentile_1  Gx_ECDF Percentile_2  Gx_ECDF Percentile_3  \\\n",
       "0            -18.798829            -11.169434             -3.906250   \n",
       "1            -23.071290            -15.258790             -5.310059   \n",
       "2            -23.315431             -4.760742             16.540528   \n",
       "3            -26.245119             19.226075             42.358401   \n",
       "4            -29.663088            -11.762086             -0.854492   \n",
       "\n",
       "   Gx_ECDF Percentile_4  Gx_ECDF Percentile_5  Gx_ECDF Percentile_6  \\\n",
       "0              3.051758              9.887696             18.249513   \n",
       "1              2.868653             11.291505             28.686525   \n",
       "2             95.275885            168.090831            315.856953   \n",
       "3            119.201667            213.500990            336.853048   \n",
       "4             11.593018             27.893068             50.667728   \n",
       "\n",
       "     Gx_Mean  Gx_Standard deviation  Gx_Zero crossing rate  \\\n",
       "0  -3.989258              22.366513                   26.0   \n",
       "1   3.672180              49.716805                   23.0   \n",
       "2  90.644842             208.561333                   24.0   \n",
       "3  95.704657             243.888270                   30.0   \n",
       "4   6.321506             139.989011                   25.0   \n",
       "\n",
       "   Gy_ECDF Percentile_0  Gy_ECDF Percentile_1  Gy_ECDF Percentile_2  \\\n",
       "0            -75.500493            -41.442874            -14.099122   \n",
       "1            -80.810552            -41.381838            -13.488770   \n",
       "2          -1473.877043           -823.974660            -46.142581   \n",
       "3          -1523.742769          -1048.645084           -236.206069   \n",
       "4           -344.360373            -36.958010             -6.726075   \n",
       "\n",
       "   Gy_ECDF Percentile_3  Gy_ECDF Percentile_4  Gy_ECDF Percentile_5  \\\n",
       "0              5.615235             26.611330             42.419436   \n",
       "1             11.169434             36.682131             52.062991   \n",
       "2              3.662110             57.006839            541.198764   \n",
       "3             -8.117676            279.602068           1068.542546   \n",
       "4             19.895021             44.738772             71.054692   \n",
       "\n",
       "   Gy_ECDF Percentile_6    Gy_Mean  Gy_Standard deviation  \\\n",
       "0             57.678226  -1.152344              53.702158   \n",
       "1             71.716313  -0.671997             355.114240   \n",
       "2           1384.887780 -30.523989            1028.757185   \n",
       "3           1462.341398   3.024903            1148.386039   \n",
       "4            494.995147  41.166543             619.726249   \n",
       "\n",
       "   Gy_Zero crossing rate  Gz_ECDF Percentile_0  Gz_ECDF Percentile_1  \\\n",
       "0                   22.0            -85.876470            -51.696780   \n",
       "1                   22.0            -92.041021            -69.335942   \n",
       "2                   22.0           -244.628921           -115.356452   \n",
       "3                   23.0           -342.468283           -216.857923   \n",
       "4                   20.0           -169.982921            -64.880375   \n",
       "\n",
       "   Gz_ECDF Percentile_2  Gz_ECDF Percentile_3  Gz_ECDF Percentile_4  \\\n",
       "0            -25.878908             31.188967             59.387211   \n",
       "1            -38.024905             18.859864             42.480471   \n",
       "2            -65.856938            -12.329102             66.406254   \n",
       "3            -57.861332             26.733400            104.980475   \n",
       "4            -31.862795             10.925294             61.279301   \n",
       "\n",
       "   Gz_ECDF Percentile_5  Gz_ECDF Percentile_6    Gz_Mean  \\\n",
       "0             78.552251             91.735845  12.845765   \n",
       "1             76.171880             93.322760   5.334778   \n",
       "2            120.483406            246.948257   0.733643   \n",
       "3            192.749035            370.239280  11.861878   \n",
       "4            102.167975            136.962899  14.580338   \n",
       "\n",
       "   Gz_Standard deviation  Gz_Zero crossing rate  Behavior_Lying_Mean  \\\n",
       "0              73.371791                    7.0                    0   \n",
       "1              83.761459                   10.0                    0   \n",
       "2             227.020670                   18.0                    0   \n",
       "3             293.007744                   25.0                    0   \n",
       "4             202.653820                   19.0                    0   \n",
       "\n",
       "   Behavior_Moving_Mean  Behavior_Sitting_Mean  Behavior_Standing_Mean  \\\n",
       "0                     1                      0                       0   \n",
       "1                     1                      0                       0   \n",
       "2                     1                      0                       0   \n",
       "3                     1                      0                       0   \n",
       "4                     1                      0                       0   \n",
       "\n",
       "   DogID_Mean    Axyz_SD      Gxyz_SD  Axyz_ZCR  Gxyz_ZCR       APO        GPO  \n",
       "0        16.0   0.766586    98.435184      39.0      55.0  0.258720  12.933980  \n",
       "1        16.0   3.342927   454.547851      48.0      55.0  0.312724   6.280836  \n",
       "2        16.0  11.894268  1445.879850      71.0      64.0  2.923575  95.953764  \n",
       "3        16.0  13.932136  1636.162580      81.0      78.0  3.561096  96.697896  \n",
       "4        16.0   7.983756   899.704271      58.0      64.0  0.986764  43.882451  "
      ]
     },
     "execution_count": 38,
     "metadata": {},
     "output_type": "execute_result"
    }
   ],
   "source": [
    "# calculate position offset with mean of standing & vectors of inertial measurements in current 'window'\n",
    "\n",
    "appendL = []\n",
    "def eucildean_calculator(df, i, j): \n",
    "    heightTable = (height.loc[height[\"DogID\"] == float(df[-5])]) # match dogIDs\n",
    "    A = heightTable[\"Axyz_Mean_Standing\"] \n",
    "    G = heightTable[\"Gxyz_Mean_Standing\"]\n",
    "    windowA = np.array(df[i]) # create array of sensor axis values \n",
    "    windowG = np.array(df[j])   \n",
    "    retA = np.linalg.norm(np.array(A)[0] - windowA) # calculate position offset (euclidean distance from mean of standing)\n",
    "    retG = np.linalg.norm(np.array(G)[0] - windowG) \n",
    "    appendL.append([retA, retG]) # append position offset values to empty list \n",
    "\n",
    "out = np.apply_along_axis(eucildean_calculator, 1, df, [7,17,27], [37,47,57]) # apply function along axis. [7,17,27], [37,47,57] indicate columns from which to create window vector \n",
    "appendL = pd.DataFrame(appendL, columns=[\"APO\", \"GPO\"]) # APO = Acc. pos ofset\n",
    "df = pd.concat([df, appendL], axis=1) # aggregate pos ofset values to main dataframe\n",
    "df.head()"
   ]
  },
  {
   "cell_type": "code",
   "execution_count": 39,
   "metadata": {},
   "outputs": [],
   "source": [
    "# drop axis SD features since we have already calculated their sum with Axyz_SD and Gxyz_SD\n",
    "# also drop axis ZCR since we have calculated their sum also \n",
    "df.drop(columns=['Ax_Standard deviation', 'Ay_Standard deviation', 'Az_Standard deviation', 'Gx_Standard deviation', 'Gy_Standard deviation', 'Gz_Standard deviation',\n",
    "'Ax_Zero crossing rate', 'Ay_Zero crossing rate', 'Az_Zero crossing rate', 'Gx_Zero crossing rate', 'Gy_Zero crossing rate', 'Gz_Zero crossing rate'], inplace=True)"
   ]
  },
  {
   "cell_type": "markdown",
   "metadata": {},
   "source": [
    "# exploring the data with some plots"
   ]
  },
  {
   "cell_type": "code",
   "execution_count": 40,
   "metadata": {},
   "outputs": [],
   "source": [
    "# reverse dummy encoding behavior labels for plotting purposes. then rename \n",
    "df['Behavior'] = (df.iloc[:, -11:-6] == 1).idxmax(1)\n",
    "df['Behavior'].replace({'Behavior_Moving_Mean':'Moving', 'Behavior_Lying_Mean':'Lying', 'Behavior_Sitting_Mean':'Sitting', 'Behavior_Standing_Mean':'Standing'}, inplace=True)"
   ]
  },
  {
   "cell_type": "code",
   "execution_count": 41,
   "metadata": {},
   "outputs": [
    {
     "data": {
      "image/png": "[encoded data removed]",
      "text/plain": [
       "<Figure size 432x288 with 1 Axes>"
      ]
     },
     "metadata": {
      "needs_background": "light"
     },
     "output_type": "display_data"
    }
   ],
   "source": [
    "sns.countplot(x='Behavior', data=df)\n",
    "plt.show()\n",
    "# class imbalance is clear ! many more moving samples than static "
   ]
  },
  {
   "cell_type": "code",
   "execution_count": 42,
   "metadata": {},
   "outputs": [
    {
     "data": {
      "text/plain": [
       "<AxesSubplot:xlabel='Behavior', ylabel='GPO'>"
      ]
     },
     "execution_count": 42,
     "metadata": {},
     "output_type": "execute_result"
    },
    {
     "data": {
      "image/png": "[encoded data removed]",
      "text/plain": [
       "<Figure size 864x1080 with 6 Axes>"
      ]
     },
     "metadata": {
      "needs_background": "light"
     },
     "output_type": "display_data"
    }
   ],
   "source": [
    "fig, ax = plt.subplots(3,2)\n",
    "fig.set_size_inches(12,15)\n",
    "sns.boxplot(x='Behavior', y=\"Axyz_SD\", data=df, ax=ax[0][0])\n",
    "sns.boxplot(x='Behavior', y=\"Gxyz_SD\", data=df, ax=ax[0][1])\n",
    "sns.boxplot(x='Behavior', y=\"Axyz_ZCR\", data=df, ax=ax[1][0])\n",
    "sns.boxplot(x='Behavior', y=\"Gxyz_ZCR\", data=df, ax=ax[1][1])\n",
    "sns.boxplot(x='Behavior', y=\"APO\", data=df, ax=ax[2][0])\n",
    "sns.boxplot(x='Behavior', y=\"GPO\", data=df, ax=ax[2][1])\n",
    "\n",
    "# dynamic behavior associated with a greater range in total activity (sum of standard deviation), as one might expect \n",
    "# appears that sum(ZCR) from accelerometer doesnt tell the same story as sum(ZCR) from gyroscope! \n",
    "# similarly, acc & gyro position offset seems to have a wider and slightly higher range for dynamic behavior than static \n"
   ]
  },
  {
   "cell_type": "code",
   "execution_count": 43,
   "metadata": {},
   "outputs": [],
   "source": [
    "# before we move onto feature selection, we can remove any rows where behaviour = Standing. This label was included up to this point to enable to calculation of a mean of standing for each dog, which was a prerequsite for the calculation of the feature position offset (APO, GPO) \n",
    "# now that APO & GPO have been calculated and added to the dataframe, we can drop behavior=Standing rows \n",
    "\n",
    "df = df[~df['Behavior'].isin(['Standing'])] # drop rows where behavior == standing "
   ]
  },
  {
   "cell_type": "markdown",
   "metadata": {},
   "source": [
    "# feature selection\n",
    "* ~60 features have been extracted by tsfel. if we passed them all into our models, we'd run the risk of overfitting in addition to creating unecessary computational load. feature selection is an important step to identify the features with the most influence on the target (behaviour). Avoiding overfitting means that our model can be generalised to effectively classify unseen data. \n",
    "* this notebook employs 2 feature selection tools:\n",
    "    * univariate selection with ANOVA (f_classif). f_classif well suited for classifications with numerical input and categorical output\n",
    "    * ExtraTreesClassifier \n",
    "* we can plot the ranked feature importance to identify which features are most significant. the shape of the plot can also provide goood insight into an optimal value of features to use: after n features there are typically diminishing returns. "
   ]
  },
  {
   "cell_type": "code",
   "execution_count": 44,
   "metadata": {},
   "outputs": [],
   "source": [
    "# cols = list(df.columns.values) # rearrange column order to make slicing easier \n",
    "df = df[['Ax_ECDF Percentile_0', 'Ax_ECDF Percentile_1', 'Ax_ECDF Percentile_2', 'Ax_ECDF Percentile_3', 'Ax_ECDF Percentile_4', 'Ax_ECDF Percentile_5', 'Ax_ECDF Percentile_6', 'Ax_Mean', 'Ay_ECDF Percentile_0', 'Ay_ECDF Percentile_1', 'Ay_ECDF Percentile_2', 'Ay_ECDF Percentile_3', 'Ay_ECDF Percentile_4', 'Ay_ECDF Percentile_5', 'Ay_ECDF Percentile_6', 'Ay_Mean', 'Az_ECDF Percentile_0', 'Az_ECDF Percentile_1', 'Az_ECDF Percentile_2', 'Az_ECDF Percentile_3', 'Az_ECDF Percentile_4', 'Az_ECDF Percentile_5', 'Az_ECDF Percentile_6', 'Az_Mean', 'Gx_ECDF Percentile_0', 'Gx_ECDF Percentile_1', 'Gx_ECDF Percentile_2', 'Gx_ECDF Percentile_3', 'Gx_ECDF Percentile_4', 'Gx_ECDF Percentile_5', 'Gx_ECDF Percentile_6', 'Gx_Mean', 'Gy_ECDF Percentile_0', 'Gy_ECDF Percentile_1', 'Gy_ECDF Percentile_2', 'Gy_ECDF Percentile_3', 'Gy_ECDF Percentile_4', 'Gy_ECDF Percentile_5', 'Gy_ECDF Percentile_6', 'Gy_Mean', 'Gz_ECDF Percentile_0', 'Gz_ECDF Percentile_1', 'Gz_ECDF Percentile_2', 'Gz_ECDF Percentile_3', 'Gz_ECDF Percentile_4', 'Gz_ECDF Percentile_5', 'Gz_ECDF Percentile_6', 'Gz_Mean', 'Axyz_SD', 'Gxyz_SD', 'Axyz_ZCR', 'Gxyz_ZCR', 'APO', 'GPO', 'Behavior_Lying_Mean', 'Behavior_Moving_Mean', 'Behavior_Sitting_Mean', 'Behavior_Standing_Mean', 'DogID_Mean', 'Behavior']]\n",
    "\n",
    "# dummy encoded behaviour labels were needed for feature extraction but not for classification. hence we can drop them \n",
    "df.drop(columns=['Behavior_Lying_Mean', 'Behavior_Moving_Mean', 'Behavior_Sitting_Mean', 'Behavior_Standing_Mean'], inplace=True)"
   ]
  },
  {
   "cell_type": "code",
   "execution_count": 45,
   "metadata": {},
   "outputs": [
    {
     "data": {
      "text/plain": [
       "array([11, 12, 13, 14, 15, 22, 40, 46, 50])"
      ]
     },
     "execution_count": 45,
     "metadata": {},
     "output_type": "execute_result"
    }
   ],
   "source": [
    "y = df['Behavior']\n",
    "x = df.iloc[:,:-2]\n",
    "\n",
    "skb_model = SelectKBest(f_classif, k=9) # anova feature selection - modify k here \n",
    "skb_model.fit(x, y)\n",
    "\n",
    "features = skb_model.fit_transform(x,y) # identify k best features \n",
    "skb_top_n_features_ind = skb_model.get_support(indices=True) # index these features \n",
    "fsel = x.iloc[:,skb_top_n_features_ind] \n",
    "\n",
    "features_ranked = pd.DataFrame({'col_name': skb_model.scores_}, index=x.columns).sort_values(by='col_name', ascending=False)\n",
    "skb_top_n_features_ind"
   ]
  },
  {
   "cell_type": "code",
   "execution_count": 46,
   "metadata": {},
   "outputs": [
    {
     "data": {
      "text/plain": [
       "<AxesSubplot:title={'center':'ranked feature importance scores from SelectKBest ANOVA test'}>"
      ]
     },
     "execution_count": 46,
     "metadata": {},
     "output_type": "execute_result"
    },
    {
     "data": {
      "image/png": "[encoded data removed]",
      "text/plain": [
       "<Figure size 1152x576 with 1 Axes>"
      ]
     },
     "metadata": {
      "needs_background": "light"
     },
     "output_type": "display_data"
    }
   ],
   "source": [
    "features_ranked.plot(kind='bar', figsize=(16,8), title='ranked feature importance scores from SelectKBest ANOVA test')\n",
    "# gradient of the curve is steep initially, but after the k=14th feature, the slope flattens. therefore using the top 14 features wouldbee a reasonable starting point.\n",
    "# features beyond k=14 don't have a large impact on the target variable, and including them would increase the risk of overfitting"
   ]
  },
  {
   "cell_type": "code",
   "execution_count": 47,
   "metadata": {},
   "outputs": [],
   "source": [
    "y = df['Behavior']\n",
    "x = df.iloc[:,:-2]\n",
    "\n",
    "# feature selection with extra trees classifier \n",
    "etc_model = ExtraTreesClassifier(n_estimators=100)\n",
    "etc_model.fit(x, y)\n",
    "\n",
    "features_ranked = pd.DataFrame({'col_name': etc_model.feature_importances_}, index=x.columns).sort_values(by='col_name', ascending=False)\n",
    "\n",
    "etc_top_n_features = features_ranked.iloc[:9,:] # modify number of features selected here \n",
    "cols = list(etc_top_n_features.index.values) \n",
    "etc_top_n_features_ind = [df.columns.get_loc(c) for c in cols if c in df]"
   ]
  },
  {
   "cell_type": "code",
   "execution_count": 48,
   "metadata": {},
   "outputs": [
    {
     "data": {
      "text/plain": [
       "<AxesSubplot:title={'center':'ranked feature importance scores from ExtraTreesClassifier'}>"
      ]
     },
     "execution_count": 48,
     "metadata": {},
     "output_type": "execute_result"
    },
    {
     "data": {
      "image/png": "[encoded data removed]",
      "text/plain": [
       "<Figure size 1152x576 with 1 Axes>"
      ]
     },
     "metadata": {
      "needs_background": "light"
     },
     "output_type": "display_data"
    }
   ],
   "source": [
    "features_ranked.plot(kind='bar', figsize=(16,8), title='ranked feature importance scores from ExtraTreesClassifier')\n",
    "# likewise, there are diminishing returns after the 9th feature when using extratreesclassifier to select features. "
   ]
  },
  {
   "cell_type": "code",
   "execution_count": 49,
   "metadata": {},
   "outputs": [],
   "source": [
    "x_top_n = df.iloc[:,skb_top_n_features_ind] # modify feature selection algo here: skb_top_n_features_ind or etc_top_n_features_ind\n",
    "y = df['Behavior']"
   ]
  },
  {
   "cell_type": "markdown",
   "metadata": {},
   "source": [
    "*FEATURE SELECTED (X_20) DATA IS NORMALISED BELOW AND REASSIGNED = X_20*"
   ]
  },
  {
   "cell_type": "code",
   "execution_count": 50,
   "metadata": {},
   "outputs": [],
   "source": [
    "# feature normalisation \n",
    "scaler = preprocessing.StandardScaler()\n",
    "x_top_n_norm = scaler.fit_transform(x_top_n)"
   ]
  },
  {
   "cell_type": "markdown",
   "metadata": {},
   "source": [
    "# model building!  \n",
    "* simple train_test_split for preliminary model building\n",
    "* followed by leave-one-group-out cross-validation (dog-wise) "
   ]
  },
  {
   "cell_type": "code",
   "execution_count": 51,
   "metadata": {},
   "outputs": [],
   "source": [
    "x_train, x_test, y_train, y_test = train_test_split(x_top_n_norm, y, test_size=0.2)"
   ]
  },
  {
   "cell_type": "markdown",
   "metadata": {},
   "source": [
    "* Kumpulainena et al., (2021) used four models:\n",
    "    * linear and quadratic discriminant analysis classifiers (LDA and QDA, respectively)\n",
    "    * support vector machine (SVM) classifier with gaussian kernel \n",
    "    * a classification (decision) tree\n",
    "* regarding evaluation metrics for the models, we will use the following:\n",
    "    * f1 score - robust evaluation method, useful where there is a class imbalance as is present here\n",
    "    * confusion matrix - indicates false positives and false negatives \n",
    "    * accuracy score"
   ]
  },
  {
   "cell_type": "code",
   "execution_count": 52,
   "metadata": {},
   "outputs": [
    {
     "data": {
      "image/png": "[encoded data removed]",
      "text/plain": [
       "<Figure size 432x288 with 2 Axes>"
      ]
     },
     "metadata": {
      "needs_background": "light"
     },
     "output_type": "display_data"
    },
    {
     "name": "stdout",
     "output_type": "stream",
     "text": [
      "accuracy = 0.91124405835109\n",
      "f1-score = [0.85209392 0.94679624 0.71553398]\n"
     ]
    }
   ],
   "source": [
    "# training a DescisionTreeClassifier\n",
    "dtc_model = DecisionTreeClassifier(max_depth = 18).fit(x_train, y_train)\n",
    "dtc_preds = dtc_model.predict(x_test)\n",
    "\n",
    "# accuracy score \n",
    "accuracy = dtc_model.score(x_test, y_test)\n",
    " \n",
    "# creating a confusion matrix\n",
    "cm = confusion_matrix(y_test, dtc_preds, labels=dtc_model.classes_)\n",
    "cmp = ConfusionMatrixDisplay(confusion_matrix=cm, display_labels=dtc_model.classes_)\n",
    "cmp.plot()\n",
    "plt.show()\n",
    "\n",
    "print(f'accuracy = {accuracy}') # etc_model(20)=0.815 // etc_model(9)=0.811 // skb_model(14)=0.803\n",
    "print(f'f1-score = {f1_score(y_test, dtc_preds, average=None)}')"
   ]
  },
  {
   "cell_type": "code",
   "execution_count": 53,
   "metadata": {},
   "outputs": [
    {
     "data": {
      "image/png": "[encoded data removed]",
      "text/plain": [
       "<Figure size 432x288 with 2 Axes>"
      ]
     },
     "metadata": {
      "needs_background": "light"
     },
     "output_type": "display_data"
    },
    {
     "name": "stdout",
     "output_type": "stream",
     "text": [
      "accuracy = 0.8289624651696443\n",
      "f1-score = [0.7005571  0.89000169 0.6000861 ]\n"
     ]
    }
   ],
   "source": [
    "# support vector classifier \n",
    "svc_model = SVC(kernel = 'linear', C = 1).fit(x_train, y_train)\n",
    "svc_preds = svc_model.predict(x_test)\n",
    " \n",
    "# model accuracy for x_test \n",
    "accuracy = svc_model.score(x_test, y_test)\n",
    " \n",
    "# creating a confusion matrix\n",
    "cm = confusion_matrix(y_test, svc_preds, labels=svc_model.classes_)\n",
    "cmp = ConfusionMatrixDisplay(confusion_matrix=cm, display_labels=svc_model.classes_)\n",
    "cmp.plot()\n",
    "plt.show()\n",
    "\n",
    "print(f'accuracy = {accuracy}') # etc_model(20) = 0.843 // etc_model(9)=0.817 // skb_model(14)=0.838\n",
    "print(f'f1-score = {f1_score(y_test, svc_preds, average=None)}')"
   ]
  },
  {
   "cell_type": "code",
   "execution_count": 54,
   "metadata": {},
   "outputs": [
    {
     "data": {
      "image/png": "[encoded data removed]",
      "text/plain": [
       "<Figure size 432x288 with 2 Axes>"
      ]
     },
     "metadata": {
      "needs_background": "light"
     },
     "output_type": "display_data"
    },
    {
     "name": "stdout",
     "output_type": "stream",
     "text": [
      "accuracy = 0.9277987215210621\n",
      "f1-score = [0.87703129 0.95733975 0.76214321]\n"
     ]
    }
   ],
   "source": [
    "# k nearest neighbours\n",
    "knn_model = KNeighborsClassifier(n_neighbors = 7).fit(x_train, y_train)\n",
    "knn_preds = knn_model.predict(x_test) \n",
    "\n",
    "# accuracy on x_test\n",
    "accuracy = knn_model.score(x_test, y_test)\n",
    " \n",
    "# creating a confusion matrix\n",
    "cm = confusion_matrix(y_test, knn_preds, labels=knn_model.classes_)\n",
    "cmp = ConfusionMatrixDisplay(confusion_matrix=cm, display_labels=knn_model.classes_)\n",
    "cmp.plot()\n",
    "plt.show()\n",
    "\n",
    "print(f'accuracy = {accuracy}') # etc_model(20) = 0.959 // etc_model(9)=0.946 // skb_model(14)=0.938\n",
    "print(f'f1-score = {f1_score(y_test, knn_preds, average=None)}')"
   ]
  },
  {
   "cell_type": "code",
   "execution_count": 55,
   "metadata": {},
   "outputs": [
    {
     "data": {
      "image/png": "[encoded data removed]",
      "text/plain": [
       "<Figure size 432x288 with 2 Axes>"
      ]
     },
     "metadata": {
      "needs_background": "light"
     },
     "output_type": "display_data"
    },
    {
     "name": "stdout",
     "output_type": "stream",
     "text": [
      "accuracy = 0.810850680216358\n",
      "f1-score = [0.71419715 0.87975684 0.59711075]\n"
     ]
    }
   ],
   "source": [
    "# naive bayes (gaussian)\n",
    "gnb_model = GaussianNB().fit(x_train, y_train)\n",
    "gnb_preds = gnb_model.predict(x_test)\n",
    " \n",
    "# accuracy on x_test\n",
    "accuracy = gnb_model.score(x_test, y_test)\n",
    " \n",
    "# creating a confusion matrix\n",
    "cm = confusion_matrix(y_test, gnb_preds, labels=gnb_model.classes_)\n",
    "cmp = ConfusionMatrixDisplay(confusion_matrix=cm, display_labels=dtc_model.classes_)\n",
    "cmp.plot()\n",
    "plt.show()\n",
    "\n",
    "print(f'accuracy = {accuracy}') # etc_model(20) = 0.803 // etc_model(9)=0.799 // skb_model(14)=0.820\n",
    "print(f'f1-score = {f1_score(y_test, gnb_preds, average=None)}')"
   ]
  },
  {
   "cell_type": "markdown",
   "metadata": {},
   "source": [
    "# model evaluation \n",
    "\n",
    "* confusion matrix heatmaps again clearly demonstrate the class imbalance - sitting, lying and moving samples were not equally present in the dataset.\n",
    "* since there were far more dynamic behaviours, the figures for for moving class predictions are comparatively greater "
   ]
  },
  {
   "cell_type": "markdown",
   "metadata": {},
   "source": [
    "# leave one (dog) out cross-validation \n",
    "* abrogates subject bias "
   ]
  },
  {
   "cell_type": "code",
   "execution_count": 56,
   "metadata": {},
   "outputs": [
    {
     "name": "stdout",
     "output_type": "stream",
     "text": [
      "0.8281085426946795\n"
     ]
    }
   ],
   "source": [
    "groups = df['DogID_Mean'].values\n",
    "logo = LeaveOneGroupOut()\n",
    "logo.get_n_splits(x_top_n_norm, y, groups=groups) # verify that there is a split for each dog (total 45) \n",
    "logocv_accuracy = []\n",
    "\n",
    "for train_ind, test_ind in logo.split(x_top_n_norm, y, groups=groups):\n",
    "    x_top_n_norm_train = x_top_n_norm[train_ind]\n",
    "    x_top_n_norm_test = x_top_n_norm[test_ind]\n",
    "    y_train = y.iloc[train_ind]\n",
    "    y_test = y.iloc[test_ind]\n",
    "\n",
    "    # build model \n",
    "    knn_model = KNeighborsClassifier(n_neighbors = 7).fit(x_top_n_norm_train, y_train)\n",
    "    knn_preds = knn_model.predict(x_top_n_norm_test) \n",
    "\n",
    "    # record accuracy \n",
    "    accuracy = knn_model.score(x_top_n_norm_test, y_test)\n",
    "    logocv_accuracy.append(accuracy)\n",
    "\n",
    "print(sum(logocv_accuracy) / len(logocv_accuracy))"
   ]
  },
  {
   "cell_type": "code",
   "execution_count": 57,
   "metadata": {},
   "outputs": [
    {
     "name": "stdout",
     "output_type": "stream",
     "text": [
      "0.815299854407543\n"
     ]
    }
   ],
   "source": [
    "groups = df['DogID_Mean'].values\n",
    "logo = LeaveOneGroupOut()\n",
    "logo.get_n_splits(x_top_n_norm, y, groups=groups) # verify that there is a split for each dog (total 45) \n",
    "logocv_accuracy = []\n",
    "\n",
    "for train_ind, test_ind in logo.split(x_top_n_norm, y, groups=groups):\n",
    "    x_top_n_norm_train = x_top_n_norm[train_ind]\n",
    "    x_top_n_norm_test = x_top_n_norm[test_ind]\n",
    "    y_train = y.iloc[train_ind]\n",
    "    y_test = y.iloc[test_ind]\n",
    "\n",
    "   # support vector classifier \n",
    "    svc_model = SVC(kernel = 'linear', C = 1).fit(x_top_n_norm_train, y_train)\n",
    "    svc_preds = svc_model.predict(x_top_n_norm_test)\n",
    "    \n",
    "    # model accuracy for x_test \n",
    "    accuracy = svc_model.score(x_top_n_norm_test, y_test)\n",
    "    logocv_accuracy.append(accuracy)\n",
    "\n",
    "print(sum(logocv_accuracy) / len(logocv_accuracy))"
   ]
  },
  {
   "cell_type": "code",
   "execution_count": 58,
   "metadata": {},
   "outputs": [
    {
     "name": "stdout",
     "output_type": "stream",
     "text": [
      "0.9716114944744599\n"
     ]
    }
   ],
   "source": [
    "groups = df['DogID_Mean'].values\n",
    "logo = LeaveOneGroupOut()\n",
    "logo.get_n_splits(x_top_n_norm, y, groups=groups) # verify that there is a split for each dog (total 45) \n",
    "logocv_accuracy = []\n",
    "\n",
    "for train_ind, test_ind in logo.split(x_top_n_norm, y, groups=groups):\n",
    "    x_top_n_norm_train = x_top_n_norm[train_ind]\n",
    "    x_top_n_norm_test = x_top_n_norm[test_ind]\n",
    "    y_train = y.iloc[train_ind]\n",
    "    y_test = y.iloc[test_ind]\n",
    "\n",
    "    gnb_model = DecisionTreeClassifier(max_depth = 18).fit(x_top_n_norm_train, y_train)\n",
    "    gnb_preds = dtc_model.predict(x_top_n_norm_test)\n",
    "\n",
    "   \n",
    "    # model accuracy for x_test \n",
    "    accuracy = dtc_model.score(x_top_n_norm_test, y_test)\n",
    "    logocv_accuracy.append(accuracy)\n",
    "\n",
    "print(sum(logocv_accuracy) / len(logocv_accuracy))"
   ]
  },
  {
   "cell_type": "code",
   "execution_count": 59,
   "metadata": {},
   "outputs": [
    {
     "name": "stdout",
     "output_type": "stream",
     "text": [
      "0.8068298363955206\n"
     ]
    }
   ],
   "source": [
    "groups = df['DogID_Mean'].values\n",
    "logo = LeaveOneGroupOut()\n",
    "logo.get_n_splits(x_top_n_norm, y, groups=groups) # verify that there is a split for each dog (total 45) \n",
    "logocv_accuracy = []\n",
    "\n",
    "for train_ind, test_ind in logo.split(x_top_n_norm, y, groups=groups):\n",
    "    x_top_n_norm_train = x_top_n_norm[train_ind]\n",
    "    x_top_n_norm_test = x_top_n_norm[test_ind]\n",
    "    y_train = y.iloc[train_ind]\n",
    "    y_test = y.iloc[test_ind]\n",
    "\n",
    "    gnb_model = GaussianNB().fit(x_top_n_norm_train, y_train)\n",
    "    gnb_preds = gnb_model.predict(x_top_n_norm_test)\n",
    "\n",
    "   \n",
    "    # model accuracy for x_test \n",
    "    accuracy = gnb_model.score(x_top_n_norm_test, y_test)\n",
    "    logocv_accuracy.append(accuracy)\n",
    "\n",
    "print(sum(logocv_accuracy) / len(logocv_accuracy))"
   ]
  }
 ],
 "metadata": {
  "interpreter": {
   "hash": "c6e4e9f98eb68ad3b7c296f83d20e6de614cb42e90992a65aa266555a3137d0d"
  },
  "kernelspec": {
   "display_name": "Python 3.9.7 64-bit ('base': conda)",
   "language": "python",
   "name": "python3"
  },
  "language_info": {
   "codemirror_mode": {
    "name": "ipython",
    "version": 3
   },
   "file_extension": ".py",
   "mimetype": "text/x-python",
   "name": "python",
   "nbconvert_exporter": "python",
   "pygments_lexer": "ipython3",
   "version": "3.9.7"
  },
  "orig_nbformat": 4
 },
 "nbformat": 4,
 "nbformat_minor": 2
}
